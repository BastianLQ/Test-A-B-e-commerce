{
 "cells": [
  {
   "cell_type": "markdown",
   "metadata": {},
   "source": [
    "## Introducción"
   ]
  },
  {
   "cell_type": "markdown",
   "metadata": {},
   "source": [
    "Junto con el departamento de marketing de la compañía en cuestión, se ha creado una lista de hipótesis que pueden ayudar a aumentar los ingresos. \n",
    "Se deben priorizar estas hipótesis, lanzar un test A/B y analizar los resultados. Para lograr los objetivos se seguirán los siguientes pasos:\n",
    "\n",
    "__Parte 1. Priorizar hipótesis__\n",
    "\n",
    "El archivo `hypotheses_us.csv` contiene nueve hipótesis sobre cómo aumentar los ingresos de una tienda en línea con Reach, Impact, Confidence y Effort especificados para cada una.\n",
    "\n",
    "Acciones a seguir:\n",
    "\n",
    "- Aplicar el framework ICE para priorizar hipótesis. Ordenarlas en orden descendente de prioridad.\n",
    "- Aplicar el framework RICE para priorizar hipótesis. Ordenarlas en orden descendente de prioridad.\n",
    "- Mostrar cómo cambia la priorización de hipótesis cuando utilizas RICE en lugar de ICE. Proporcionar una explicación de los cambios.\n",
    "\n",
    "__Parte 2. Análisis de test A/B__\n",
    "\n",
    "Se realizó un test A/B y los resultados están en los archivos `orders_us.csv` y `visitors_us.csv`.\n",
    "\n",
    "Analizar el test A/B:\n",
    "\n",
    "- Representar gráficamente el ingreso acumulado por grupo. Hacer conclusiones y conjeturas.\n",
    "- Representar gráficamente el tamaño de pedido promedio acumulado por grupo. Hacer conclusiones y conjeturas.\n",
    "- Representar gráficamente la diferencia relativa en el tamaño de pedido promedio acumulado para el grupo B en comparación con el grupo A. Hacer conclusiones y conjeturas.\n",
    "- Calcular la tasa de conversión de cada grupo como la relación entre los pedidos y el número de visitas de cada día. Representar gráficamente las tasas de conversión diarias de los dos grupos y describir la diferencia. Sacar conclusiones y hacer conjeturas.\n",
    "- Trazar un gráfico de dispersión del número de pedidos por usuario. Hacer conclusiones y conjeturas.\n",
    "- Calcular los percentiles 95 y 99 para el número de pedidos por usuario. Definir el punto en el cual un punto de datos se convierte en una anomalía.\n",
    "- Trazar un gráfico de dispersión de los precios de los pedidos. Hacer conclusiones y conjeturas.\n",
    "- Calcular los percentiles 95 y 99 de los precios de los pedidos. Definir el punto en el cual un punto de datos se convierte en una anomalía.\n",
    "- Encontrar la significancia estadística de la diferencia en la conversión entre los grupos utilizando los datos en bruto. Hacer conclusiones y conjeturas.\n",
    "- Encontrar la significancia estadística de la diferencia en el tamaño promedio de pedido entre los grupos utilizando los datos en bruto. Hacer conclusiones y conjeturas.\n",
    "- Encontrar la significancia estadística de la diferencia en la conversión entre los grupos utilizando los datos filtrados. Hacer conclusiones y conjeturas.\n",
    "- Encontrar la significancia estadística de la diferencia en el tamaño promedio de pedido entre los grupos utilizando los datos filtrados. Hacer conclusiones y conjeturas.\n",
    "- Tomar una decisión basada en los resultados de la prueba. Las decisiones posibles son: \n",
    "    - 1. Parar la prueba, considerar a uno de los grupos como líder. \n",
    "    - 2. Parar la prueba, concluir que no hay diferencia entre los grupos. \n",
    "    - 3. Continuar la prueba."
   ]
  },
  {
   "cell_type": "markdown",
   "metadata": {},
   "source": [
    "### Descripción de datos"
   ]
  },
  {
   "cell_type": "markdown",
   "metadata": {},
   "source": [
    "__Datos utilizados en la primera parte del proyecto__\n",
    "\n",
    "`/datasets/hypotheses_us.csv` , Archivo que contiene una lista de hipótesis pendientes de probar con sus respectivos parámetros.\n",
    "\n",
    "- `Hypotheses`: breves descripciones de las hipótesis\n",
    "- `Reach`: alcance del usuario, en una escala del uno a diez\n",
    "- `Impact`: impacto en los usuarios, en una escala del uno al diez\n",
    "- `Confidence`: confianza en la hipótesis, en una escala del uno al diez\n",
    "- `Effort`: los recursos necesarios para probar una hipótesis, en una escala del uno al diez. Cuanto mayor sea el valor Effort, más recursos requiere la prueba.\n",
    "\n",
    "__Datos utilizados en la segunda parte del proyecto__\n",
    "\n",
    "`/datasets/orders_us.csv`\n",
    "\n",
    "- `transactionId`: identificador de pedido\n",
    "- `visitorId`: identificador del usuario que realizó el pedido\n",
    "- `date`: fecha del pedido\n",
    "- `revenue`: ingresos del pedido\n",
    "- `group`: el grupo del test A/B al que pertenece el usuario\n",
    "\n",
    "`/datasets/visits_us.csv`\n",
    "\n",
    "- `date`: la fecha\n",
    "- `group`: grupo del test A/B\n",
    "- `visits`: el número de visitas en la fecha especificada para el grupo de test A/B especificado"
   ]
  },
  {
   "cell_type": "markdown",
   "metadata": {},
   "source": [
    "## Pre-análisis de los datos"
   ]
  },
  {
   "cell_type": "markdown",
   "metadata": {},
   "source": [
    "Antes de comenzar a trabajar con los datos, necesitamos hacer los preparativos necesarios para que todo resulte como esperamos."
   ]
  },
  {
   "cell_type": "markdown",
   "metadata": {},
   "source": [
    "### Importación de librerías"
   ]
  },
  {
   "cell_type": "markdown",
   "metadata": {},
   "source": [
    "Comenzamos importando todas las librerías y módulos que se necesitarán para llevar a cabo el proyecto."
   ]
  },
  {
   "cell_type": "code",
   "execution_count": 1,
   "metadata": {},
   "outputs": [],
   "source": [
    "import pandas as pd\n",
    "import numpy as np\n",
    "import matplotlib.pyplot as plt\n",
    "import seaborn as sns\n",
    "from scipy import stats as st \n",
    "import math as mt\n",
    "import datetime as dt"
   ]
  },
  {
   "cell_type": "markdown",
   "metadata": {},
   "source": [
    "Se importan exitosamente todas las librerias necesarias."
   ]
  },
  {
   "cell_type": "markdown",
   "metadata": {},
   "source": [
    "### Carga de datos"
   ]
  },
  {
   "cell_type": "markdown",
   "metadata": {},
   "source": [
    "Ahora, procedemos a importar los datos necesarios tanto para la parte 1, como para la parte 2. Comenzando con el dataset que contiene información sobre las hipótesis a probar (parte 1)."
   ]
  },
  {
   "cell_type": "code",
   "execution_count": 2,
   "metadata": {},
   "outputs": [
    {
     "data": {
      "text/html": [
       "<div>\n",
       "<style scoped>\n",
       "    .dataframe tbody tr th:only-of-type {\n",
       "        vertical-align: middle;\n",
       "    }\n",
       "\n",
       "    .dataframe tbody tr th {\n",
       "        vertical-align: top;\n",
       "    }\n",
       "\n",
       "    .dataframe thead th {\n",
       "        text-align: right;\n",
       "    }\n",
       "</style>\n",
       "<table border=\"1\" class=\"dataframe\">\n",
       "  <thead>\n",
       "    <tr style=\"text-align: right;\">\n",
       "      <th></th>\n",
       "      <th>Hypothesis</th>\n",
       "      <th>Reach</th>\n",
       "      <th>Impact</th>\n",
       "      <th>Confidence</th>\n",
       "      <th>Effort</th>\n",
       "    </tr>\n",
       "  </thead>\n",
       "  <tbody>\n",
       "    <tr>\n",
       "      <th>0</th>\n",
       "      <td>Add two new channels for attracting traffic. T...</td>\n",
       "      <td>3</td>\n",
       "      <td>10</td>\n",
       "      <td>8</td>\n",
       "      <td>6</td>\n",
       "    </tr>\n",
       "    <tr>\n",
       "      <th>1</th>\n",
       "      <td>Launch your own delivery service. This will sh...</td>\n",
       "      <td>2</td>\n",
       "      <td>5</td>\n",
       "      <td>4</td>\n",
       "      <td>10</td>\n",
       "    </tr>\n",
       "    <tr>\n",
       "      <th>2</th>\n",
       "      <td>Add product recommendation blocks to the store...</td>\n",
       "      <td>8</td>\n",
       "      <td>3</td>\n",
       "      <td>7</td>\n",
       "      <td>3</td>\n",
       "    </tr>\n",
       "    <tr>\n",
       "      <th>3</th>\n",
       "      <td>Change the category structure. This will incre...</td>\n",
       "      <td>8</td>\n",
       "      <td>3</td>\n",
       "      <td>3</td>\n",
       "      <td>8</td>\n",
       "    </tr>\n",
       "    <tr>\n",
       "      <th>4</th>\n",
       "      <td>Change the background color on the main page. ...</td>\n",
       "      <td>3</td>\n",
       "      <td>1</td>\n",
       "      <td>1</td>\n",
       "      <td>1</td>\n",
       "    </tr>\n",
       "    <tr>\n",
       "      <th>5</th>\n",
       "      <td>Add a customer review page. This will increase...</td>\n",
       "      <td>3</td>\n",
       "      <td>2</td>\n",
       "      <td>2</td>\n",
       "      <td>3</td>\n",
       "    </tr>\n",
       "    <tr>\n",
       "      <th>6</th>\n",
       "      <td>Show banners with current offers and sales on ...</td>\n",
       "      <td>5</td>\n",
       "      <td>3</td>\n",
       "      <td>8</td>\n",
       "      <td>3</td>\n",
       "    </tr>\n",
       "    <tr>\n",
       "      <th>7</th>\n",
       "      <td>Add a subscription form to all the main pages....</td>\n",
       "      <td>10</td>\n",
       "      <td>7</td>\n",
       "      <td>8</td>\n",
       "      <td>5</td>\n",
       "    </tr>\n",
       "    <tr>\n",
       "      <th>8</th>\n",
       "      <td>Launch a promotion that gives users discounts ...</td>\n",
       "      <td>1</td>\n",
       "      <td>9</td>\n",
       "      <td>9</td>\n",
       "      <td>5</td>\n",
       "    </tr>\n",
       "  </tbody>\n",
       "</table>\n",
       "</div>"
      ],
      "text/plain": [
       "                                          Hypothesis  Reach  Impact  \\\n",
       "0  Add two new channels for attracting traffic. T...      3      10   \n",
       "1  Launch your own delivery service. This will sh...      2       5   \n",
       "2  Add product recommendation blocks to the store...      8       3   \n",
       "3  Change the category structure. This will incre...      8       3   \n",
       "4  Change the background color on the main page. ...      3       1   \n",
       "5  Add a customer review page. This will increase...      3       2   \n",
       "6  Show banners with current offers and sales on ...      5       3   \n",
       "7  Add a subscription form to all the main pages....     10       7   \n",
       "8  Launch a promotion that gives users discounts ...      1       9   \n",
       "\n",
       "   Confidence  Effort  \n",
       "0           8       6  \n",
       "1           4      10  \n",
       "2           7       3  \n",
       "3           3       8  \n",
       "4           1       1  \n",
       "5           2       3  \n",
       "6           8       3  \n",
       "7           8       5  \n",
       "8           9       5  "
      ]
     },
     "execution_count": 2,
     "metadata": {},
     "output_type": "execute_result"
    }
   ],
   "source": [
    "hypotheses = pd.read_csv('/datasets/hypotheses_us.csv', sep=';')\n",
    "hypotheses"
   ]
  },
  {
   "cell_type": "markdown",
   "metadata": {},
   "source": [
    "Se importa el dataset y se descubre que está separado por `';'`, se corrige y carga correctamente. \n",
    "\n",
    "Continuamos con el primer dataset de la parte 2."
   ]
  },
  {
   "cell_type": "code",
   "execution_count": 3,
   "metadata": {},
   "outputs": [
    {
     "name": "stdout",
     "output_type": "stream",
     "text": [
      "<class 'pandas.core.frame.DataFrame'>\n",
      "RangeIndex: 1197 entries, 0 to 1196\n",
      "Data columns (total 5 columns):\n",
      " #   Column         Non-Null Count  Dtype         \n",
      "---  ------         --------------  -----         \n",
      " 0   transactionId  1197 non-null   int64         \n",
      " 1   visitorId      1197 non-null   int64         \n",
      " 2   date           1197 non-null   datetime64[ns]\n",
      " 3   revenue        1197 non-null   float64       \n",
      " 4   group          1197 non-null   object        \n",
      "dtypes: datetime64[ns](1), float64(1), int64(2), object(1)\n",
      "memory usage: 46.9+ KB\n"
     ]
    },
    {
     "data": {
      "text/html": [
       "<div>\n",
       "<style scoped>\n",
       "    .dataframe tbody tr th:only-of-type {\n",
       "        vertical-align: middle;\n",
       "    }\n",
       "\n",
       "    .dataframe tbody tr th {\n",
       "        vertical-align: top;\n",
       "    }\n",
       "\n",
       "    .dataframe thead th {\n",
       "        text-align: right;\n",
       "    }\n",
       "</style>\n",
       "<table border=\"1\" class=\"dataframe\">\n",
       "  <thead>\n",
       "    <tr style=\"text-align: right;\">\n",
       "      <th></th>\n",
       "      <th>transactionId</th>\n",
       "      <th>visitorId</th>\n",
       "      <th>date</th>\n",
       "      <th>revenue</th>\n",
       "      <th>group</th>\n",
       "    </tr>\n",
       "  </thead>\n",
       "  <tbody>\n",
       "    <tr>\n",
       "      <th>0</th>\n",
       "      <td>3667963787</td>\n",
       "      <td>3312258926</td>\n",
       "      <td>2019-08-15</td>\n",
       "      <td>30.4</td>\n",
       "      <td>B</td>\n",
       "    </tr>\n",
       "    <tr>\n",
       "      <th>1</th>\n",
       "      <td>2804400009</td>\n",
       "      <td>3642806036</td>\n",
       "      <td>2019-08-15</td>\n",
       "      <td>15.2</td>\n",
       "      <td>B</td>\n",
       "    </tr>\n",
       "    <tr>\n",
       "      <th>2</th>\n",
       "      <td>2961555356</td>\n",
       "      <td>4069496402</td>\n",
       "      <td>2019-08-15</td>\n",
       "      <td>10.2</td>\n",
       "      <td>A</td>\n",
       "    </tr>\n",
       "    <tr>\n",
       "      <th>3</th>\n",
       "      <td>3797467345</td>\n",
       "      <td>1196621759</td>\n",
       "      <td>2019-08-15</td>\n",
       "      <td>155.1</td>\n",
       "      <td>B</td>\n",
       "    </tr>\n",
       "    <tr>\n",
       "      <th>4</th>\n",
       "      <td>2282983706</td>\n",
       "      <td>2322279887</td>\n",
       "      <td>2019-08-15</td>\n",
       "      <td>40.5</td>\n",
       "      <td>B</td>\n",
       "    </tr>\n",
       "  </tbody>\n",
       "</table>\n",
       "</div>"
      ],
      "text/plain": [
       "   transactionId   visitorId       date  revenue group\n",
       "0     3667963787  3312258926 2019-08-15     30.4     B\n",
       "1     2804400009  3642806036 2019-08-15     15.2     B\n",
       "2     2961555356  4069496402 2019-08-15     10.2     A\n",
       "3     3797467345  1196621759 2019-08-15    155.1     B\n",
       "4     2282983706  2322279887 2019-08-15     40.5     B"
      ]
     },
     "execution_count": 3,
     "metadata": {},
     "output_type": "execute_result"
    }
   ],
   "source": [
    "orders = pd.read_csv('/datasets/orders_us.csv', parse_dates=['date'])\n",
    "orders.info()\n",
    "orders.head()"
   ]
  },
  {
   "cell_type": "markdown",
   "metadata": {},
   "source": [
    "Se importa el dataset y se optimiza el tipo de dato de la columna `date` a datetime64 para facilitar el trabajo posterior, se observa que no hay valores ausentes.\n",
    "\n",
    "Finalizamos con el segundo dataset de la parte 2."
   ]
  },
  {
   "cell_type": "code",
   "execution_count": 4,
   "metadata": {},
   "outputs": [
    {
     "name": "stdout",
     "output_type": "stream",
     "text": [
      "<class 'pandas.core.frame.DataFrame'>\n",
      "RangeIndex: 62 entries, 0 to 61\n",
      "Data columns (total 3 columns):\n",
      " #   Column  Non-Null Count  Dtype         \n",
      "---  ------  --------------  -----         \n",
      " 0   date    62 non-null     datetime64[ns]\n",
      " 1   group   62 non-null     object        \n",
      " 2   visits  62 non-null     int64         \n",
      "dtypes: datetime64[ns](1), int64(1), object(1)\n",
      "memory usage: 1.6+ KB\n"
     ]
    },
    {
     "data": {
      "text/html": [
       "<div>\n",
       "<style scoped>\n",
       "    .dataframe tbody tr th:only-of-type {\n",
       "        vertical-align: middle;\n",
       "    }\n",
       "\n",
       "    .dataframe tbody tr th {\n",
       "        vertical-align: top;\n",
       "    }\n",
       "\n",
       "    .dataframe thead th {\n",
       "        text-align: right;\n",
       "    }\n",
       "</style>\n",
       "<table border=\"1\" class=\"dataframe\">\n",
       "  <thead>\n",
       "    <tr style=\"text-align: right;\">\n",
       "      <th></th>\n",
       "      <th>date</th>\n",
       "      <th>group</th>\n",
       "      <th>visits</th>\n",
       "    </tr>\n",
       "  </thead>\n",
       "  <tbody>\n",
       "    <tr>\n",
       "      <th>0</th>\n",
       "      <td>2019-08-01</td>\n",
       "      <td>A</td>\n",
       "      <td>719</td>\n",
       "    </tr>\n",
       "    <tr>\n",
       "      <th>1</th>\n",
       "      <td>2019-08-02</td>\n",
       "      <td>A</td>\n",
       "      <td>619</td>\n",
       "    </tr>\n",
       "    <tr>\n",
       "      <th>2</th>\n",
       "      <td>2019-08-03</td>\n",
       "      <td>A</td>\n",
       "      <td>507</td>\n",
       "    </tr>\n",
       "    <tr>\n",
       "      <th>3</th>\n",
       "      <td>2019-08-04</td>\n",
       "      <td>A</td>\n",
       "      <td>717</td>\n",
       "    </tr>\n",
       "    <tr>\n",
       "      <th>4</th>\n",
       "      <td>2019-08-05</td>\n",
       "      <td>A</td>\n",
       "      <td>756</td>\n",
       "    </tr>\n",
       "  </tbody>\n",
       "</table>\n",
       "</div>"
      ],
      "text/plain": [
       "        date group  visits\n",
       "0 2019-08-01     A     719\n",
       "1 2019-08-02     A     619\n",
       "2 2019-08-03     A     507\n",
       "3 2019-08-04     A     717\n",
       "4 2019-08-05     A     756"
      ]
     },
     "execution_count": 4,
     "metadata": {},
     "output_type": "execute_result"
    }
   ],
   "source": [
    "visits = pd.read_csv('/datasets/visits_us.csv', parse_dates=['date'])\n",
    "visits.info()\n",
    "visits.head()"
   ]
  },
  {
   "cell_type": "markdown",
   "metadata": {},
   "source": [
    "Se importa el dataset y se optimiza el tipo de dato de la columna `date` a datetime64 para facilitar el trabajo posterior, no se observan valores ausentes."
   ]
  },
  {
   "cell_type": "markdown",
   "metadata": {},
   "source": [
    "### Valores duplicados"
   ]
  },
  {
   "cell_type": "markdown",
   "metadata": {},
   "source": [
    "Buscaremos duplicados explícitos en el dataset."
   ]
  },
  {
   "cell_type": "code",
   "execution_count": 5,
   "metadata": {},
   "outputs": [
    {
     "name": "stdout",
     "output_type": "stream",
     "text": [
      "0\n",
      "\n",
      "0\n"
     ]
    }
   ],
   "source": [
    "print(orders.duplicated().sum())\n",
    "print()\n",
    "print(visits.duplicated().sum())"
   ]
  },
  {
   "cell_type": "markdown",
   "metadata": {},
   "source": [
    "No se encuentran valores ausentes ni duplicados."
   ]
  },
  {
   "cell_type": "markdown",
   "metadata": {},
   "source": [
    "## Primera parte: Priorizar hipótesis"
   ]
  },
  {
   "cell_type": "markdown",
   "metadata": {},
   "source": [
    "Una vez realizado el pre-análisis, estamos listos para comenzar con el proyecto. Comenzamos con la primera parte, analizando las hipótesis mediante el framework ICE."
   ]
  },
  {
   "cell_type": "markdown",
   "metadata": {},
   "source": [
    "### Framework ICE"
   ]
  },
  {
   "cell_type": "markdown",
   "metadata": {},
   "source": [
    "Comenzamos aplicando la fórmula para calcular la prioridad de cada hipótesis y finalmente ordenamos en forma descendente. "
   ]
  },
  {
   "cell_type": "code",
   "execution_count": 6,
   "metadata": {},
   "outputs": [
    {
     "data": {
      "text/html": [
       "<div>\n",
       "<style scoped>\n",
       "    .dataframe tbody tr th:only-of-type {\n",
       "        vertical-align: middle;\n",
       "    }\n",
       "\n",
       "    .dataframe tbody tr th {\n",
       "        vertical-align: top;\n",
       "    }\n",
       "\n",
       "    .dataframe thead th {\n",
       "        text-align: right;\n",
       "    }\n",
       "</style>\n",
       "<table border=\"1\" class=\"dataframe\">\n",
       "  <thead>\n",
       "    <tr style=\"text-align: right;\">\n",
       "      <th></th>\n",
       "      <th>Hypothesis</th>\n",
       "      <th>ICE</th>\n",
       "    </tr>\n",
       "  </thead>\n",
       "  <tbody>\n",
       "    <tr>\n",
       "      <th>8</th>\n",
       "      <td>Launch a promotion that gives users discounts ...</td>\n",
       "      <td>16.200000</td>\n",
       "    </tr>\n",
       "    <tr>\n",
       "      <th>0</th>\n",
       "      <td>Add two new channels for attracting traffic. T...</td>\n",
       "      <td>13.333333</td>\n",
       "    </tr>\n",
       "    <tr>\n",
       "      <th>7</th>\n",
       "      <td>Add a subscription form to all the main pages....</td>\n",
       "      <td>11.200000</td>\n",
       "    </tr>\n",
       "    <tr>\n",
       "      <th>6</th>\n",
       "      <td>Show banners with current offers and sales on ...</td>\n",
       "      <td>8.000000</td>\n",
       "    </tr>\n",
       "    <tr>\n",
       "      <th>2</th>\n",
       "      <td>Add product recommendation blocks to the store...</td>\n",
       "      <td>7.000000</td>\n",
       "    </tr>\n",
       "    <tr>\n",
       "      <th>1</th>\n",
       "      <td>Launch your own delivery service. This will sh...</td>\n",
       "      <td>2.000000</td>\n",
       "    </tr>\n",
       "    <tr>\n",
       "      <th>5</th>\n",
       "      <td>Add a customer review page. This will increase...</td>\n",
       "      <td>1.333333</td>\n",
       "    </tr>\n",
       "    <tr>\n",
       "      <th>3</th>\n",
       "      <td>Change the category structure. This will incre...</td>\n",
       "      <td>1.125000</td>\n",
       "    </tr>\n",
       "    <tr>\n",
       "      <th>4</th>\n",
       "      <td>Change the background color on the main page. ...</td>\n",
       "      <td>1.000000</td>\n",
       "    </tr>\n",
       "  </tbody>\n",
       "</table>\n",
       "</div>"
      ],
      "text/plain": [
       "                                          Hypothesis        ICE\n",
       "8  Launch a promotion that gives users discounts ...  16.200000\n",
       "0  Add two new channels for attracting traffic. T...  13.333333\n",
       "7  Add a subscription form to all the main pages....  11.200000\n",
       "6  Show banners with current offers and sales on ...   8.000000\n",
       "2  Add product recommendation blocks to the store...   7.000000\n",
       "1  Launch your own delivery service. This will sh...   2.000000\n",
       "5  Add a customer review page. This will increase...   1.333333\n",
       "3  Change the category structure. This will incre...   1.125000\n",
       "4  Change the background color on the main page. ...   1.000000"
      ]
     },
     "execution_count": 6,
     "metadata": {},
     "output_type": "execute_result"
    }
   ],
   "source": [
    "hypotheses['ICE'] = (hypotheses['Impact'] * hypotheses['Confidence']) / hypotheses['Effort']\n",
    "ice = hypotheses[['Hypothesis', 'ICE']].sort_values(by='ICE', ascending=False)\n",
    "ice"
   ]
  },
  {
   "cell_type": "markdown",
   "metadata": {},
   "source": [
    "Para ilustrar mejor la jerarquía construiremos un gráfico de barras."
   ]
  },
  {
   "cell_type": "code",
   "execution_count": 7,
   "metadata": {},
   "outputs": [
    {
     "data": {
      "image/png": "[encoded data removed]",
      "text/plain": [
       "<Figure size 640x480 with 1 Axes>"
      ]
     },
     "metadata": {},
     "output_type": "display_data"
    }
   ],
   "source": [
    "ice.plot(kind='bar', legend=False, rot=0, grid=True, title='Hipótesis jerarquizadas ICE');"
   ]
  },
  {
   "cell_type": "code",
   "execution_count": 8,
   "metadata": {},
   "outputs": [
    {
     "name": "stdout",
     "output_type": "stream",
     "text": [
      "Hipótesis 8: Launch a promotion that gives users discounts on their birthdays\n",
      "Hipótesis 0: Add two new channels for attracting traffic. This will bring 30% more users\n",
      "Hipótesis 7: Add a subscription form to all the main pages. This will help you compile a mailing list\n"
     ]
    }
   ],
   "source": [
    "print('Hipótesis 8:', ice.loc[8, 'Hypothesis'])\n",
    "print('Hipótesis 0:', ice.loc[0, 'Hypothesis'])\n",
    "print('Hipótesis 7:', ice.loc[7, 'Hypothesis'])"
   ]
  },
  {
   "cell_type": "markdown",
   "metadata": {},
   "source": [
    "Según el framework `ICE` la hipótesis que trata sobre el __lanzamiento de promoción con descuento por cumpleaños sería la más importante a comprobar__."
   ]
  },
  {
   "cell_type": "markdown",
   "metadata": {},
   "source": [
    "### Framework RICE"
   ]
  },
  {
   "cell_type": "markdown",
   "metadata": {},
   "source": [
    "Ahora pasamos al framework RICE, que suma el parámetro `Reach` a la ecuación anterior."
   ]
  },
  {
   "cell_type": "code",
   "execution_count": 9,
   "metadata": {},
   "outputs": [
    {
     "data": {
      "text/html": [
       "<div>\n",
       "<style scoped>\n",
       "    .dataframe tbody tr th:only-of-type {\n",
       "        vertical-align: middle;\n",
       "    }\n",
       "\n",
       "    .dataframe tbody tr th {\n",
       "        vertical-align: top;\n",
       "    }\n",
       "\n",
       "    .dataframe thead th {\n",
       "        text-align: right;\n",
       "    }\n",
       "</style>\n",
       "<table border=\"1\" class=\"dataframe\">\n",
       "  <thead>\n",
       "    <tr style=\"text-align: right;\">\n",
       "      <th></th>\n",
       "      <th>Hypothesis</th>\n",
       "      <th>RICE</th>\n",
       "    </tr>\n",
       "  </thead>\n",
       "  <tbody>\n",
       "    <tr>\n",
       "      <th>7</th>\n",
       "      <td>Add a subscription form to all the main pages....</td>\n",
       "      <td>112.0</td>\n",
       "    </tr>\n",
       "    <tr>\n",
       "      <th>2</th>\n",
       "      <td>Add product recommendation blocks to the store...</td>\n",
       "      <td>56.0</td>\n",
       "    </tr>\n",
       "    <tr>\n",
       "      <th>0</th>\n",
       "      <td>Add two new channels for attracting traffic. T...</td>\n",
       "      <td>40.0</td>\n",
       "    </tr>\n",
       "    <tr>\n",
       "      <th>6</th>\n",
       "      <td>Show banners with current offers and sales on ...</td>\n",
       "      <td>40.0</td>\n",
       "    </tr>\n",
       "    <tr>\n",
       "      <th>8</th>\n",
       "      <td>Launch a promotion that gives users discounts ...</td>\n",
       "      <td>16.2</td>\n",
       "    </tr>\n",
       "    <tr>\n",
       "      <th>3</th>\n",
       "      <td>Change the category structure. This will incre...</td>\n",
       "      <td>9.0</td>\n",
       "    </tr>\n",
       "    <tr>\n",
       "      <th>1</th>\n",
       "      <td>Launch your own delivery service. This will sh...</td>\n",
       "      <td>4.0</td>\n",
       "    </tr>\n",
       "    <tr>\n",
       "      <th>5</th>\n",
       "      <td>Add a customer review page. This will increase...</td>\n",
       "      <td>4.0</td>\n",
       "    </tr>\n",
       "    <tr>\n",
       "      <th>4</th>\n",
       "      <td>Change the background color on the main page. ...</td>\n",
       "      <td>3.0</td>\n",
       "    </tr>\n",
       "  </tbody>\n",
       "</table>\n",
       "</div>"
      ],
      "text/plain": [
       "                                          Hypothesis   RICE\n",
       "7  Add a subscription form to all the main pages....  112.0\n",
       "2  Add product recommendation blocks to the store...   56.0\n",
       "0  Add two new channels for attracting traffic. T...   40.0\n",
       "6  Show banners with current offers and sales on ...   40.0\n",
       "8  Launch a promotion that gives users discounts ...   16.2\n",
       "3  Change the category structure. This will incre...    9.0\n",
       "1  Launch your own delivery service. This will sh...    4.0\n",
       "5  Add a customer review page. This will increase...    4.0\n",
       "4  Change the background color on the main page. ...    3.0"
      ]
     },
     "execution_count": 9,
     "metadata": {},
     "output_type": "execute_result"
    }
   ],
   "source": [
    "hypotheses['RICE'] = (hypotheses['Reach'] * hypotheses['Impact'] * hypotheses['Confidence']) / hypotheses['Effort']\n",
    "rice = hypotheses[['Hypothesis', 'RICE']].sort_values(by='RICE', ascending=False)\n",
    "rice"
   ]
  },
  {
   "cell_type": "code",
   "execution_count": 10,
   "metadata": {},
   "outputs": [
    {
     "data": {
      "image/png": "[encoded data removed]",
      "text/plain": [
       "<Figure size 640x480 with 1 Axes>"
      ]
     },
     "metadata": {},
     "output_type": "display_data"
    }
   ],
   "source": [
    "rice.plot(kind='bar', legend=False, rot=0, grid=True, title='Hipótesis jerarquizadas ICE');"
   ]
  },
  {
   "cell_type": "code",
   "execution_count": 11,
   "metadata": {},
   "outputs": [
    {
     "name": "stdout",
     "output_type": "stream",
     "text": [
      "Hipótesis 7: Add a subscription form to all the main pages. This will help you compile a mailing list\n",
      "Hipótesis 2: Add product recommendation blocks to the store's site. This will increase conversion and average purchase size\n",
      "Hipótesis 0: Add two new channels for attracting traffic. This will bring 30% more users\n",
      "Hipótesis 6: Show banners with current offers and sales on the main page. This will boost conversion\n"
     ]
    }
   ],
   "source": [
    "print('Hipótesis 7:', rice.loc[7, 'Hypothesis'])\n",
    "print('Hipótesis 2:', rice.loc[2, 'Hypothesis'])\n",
    "print('Hipótesis 0:', rice.loc[0, 'Hypothesis'])\n",
    "print('Hipótesis 6:', rice.loc[6, 'Hypothesis'])"
   ]
  },
  {
   "cell_type": "markdown",
   "metadata": {},
   "source": [
    "Según el framework `RICE` la hipótesis que trata sobre __añadir un formulario de suscripción en las páginas principales sería la más importante a comprobar__."
   ]
  },
  {
   "cell_type": "markdown",
   "metadata": {},
   "source": [
    "### Conclusión primera parte"
   ]
  },
  {
   "cell_type": "markdown",
   "metadata": {},
   "source": [
    "La diferencia de resultados entre los framework __se debe al parámetro `Reach` que refiere al alcance que dicha acción tendría entre los usuarios, a diferencia de `ICE`, `RICE` considera esto dentro de la ecuación__. Es por eso que las hipótesis más importantes de este framework son optimizaciones globales a la web, alcanzando a todos los usuarios que interactúen con ella, en cambio las prioridades de `ICE` son potencialmente muy efectivas, como el descuento por cumpleaños y crear nuevos canales de tráfico, pero en alcance quedan por detrás de las anteriores."
   ]
  },
  {
   "cell_type": "markdown",
   "metadata": {},
   "source": [
    "## Parte 2: Análisis Test A/B"
   ]
  },
  {
   "cell_type": "markdown",
   "metadata": {},
   "source": [
    "Ya podemos comenzar a desarrollar el test A/B."
   ]
  },
  {
   "cell_type": "markdown",
   "metadata": {},
   "source": [
    "### Ingreso acumulado por grupo"
   ]
  },
  {
   "cell_type": "markdown",
   "metadata": {},
   "source": [
    "Para poder graficar el ingreso acumulado se debe construir un dataframe con la información acumulada en el tiempo, el primer paso para esto es crear una matriz con valores únicos de parejas fecha-grupo."
   ]
  },
  {
   "cell_type": "code",
   "execution_count": 12,
   "metadata": {},
   "outputs": [],
   "source": [
    "datesGroups = orders[['date', 'group']].drop_duplicates()"
   ]
  },
  {
   "cell_type": "markdown",
   "metadata": {},
   "source": [
    "Ahora usando la matriz creada recientemente, agruparemos las compras y las visitas acumuladas por fecha."
   ]
  },
  {
   "cell_type": "code",
   "execution_count": 13,
   "metadata": {},
   "outputs": [],
   "source": [
    "ordersAggregated = datesGroups.apply(lambda x: orders[np.logical_and(orders['date'] <= x['date'], orders['group'] == x['group'])]\n",
    "                        .agg({'date' : 'max', 'group' : 'max', 'transactionId' : pd.Series.nunique, 'visitorId' : pd.Series.nunique, 'revenue' : 'sum'}), axis=1).sort_values(by=['date', 'group'])\n",
    "visitorsAggregated = datesGroups.apply(lambda x: visits[np.logical_and(visits['date'] <= x['date'], visits['group'] == x['group'])]\n",
    "                        .agg({'date' : 'max', 'group' : 'max', 'visits' : 'sum'}), axis=1).sort_values(by=['date','group'])"
   ]
  },
  {
   "cell_type": "markdown",
   "metadata": {},
   "source": [
    "Mediante este extenso código se extrajeron los valores del dataset `orders` que tienen una fecha menor o igual que `datesGroups` y que coinciden con el grupo, y mediante cálculos hechos dentro de la función `.agg()` se obtuvo el numero de pedidos acumulado y el monto acumulado gastado por cliente, mediante una división entre estos datos se calculó el tamaño promedio de pedido por cliente.\n",
    "\n",
    "Algo similar se hizo con dataset `visits` para calcular el número de visitas acumulado. Ahora debemos combinar los dos conjuntos de datos creados en uno solo."
   ]
  },
  {
   "cell_type": "code",
   "execution_count": 14,
   "metadata": {},
   "outputs": [
    {
     "data": {
      "text/html": [
       "<div>\n",
       "<style scoped>\n",
       "    .dataframe tbody tr th:only-of-type {\n",
       "        vertical-align: middle;\n",
       "    }\n",
       "\n",
       "    .dataframe tbody tr th {\n",
       "        vertical-align: top;\n",
       "    }\n",
       "\n",
       "    .dataframe thead th {\n",
       "        text-align: right;\n",
       "    }\n",
       "</style>\n",
       "<table border=\"1\" class=\"dataframe\">\n",
       "  <thead>\n",
       "    <tr style=\"text-align: right;\">\n",
       "      <th></th>\n",
       "      <th>date</th>\n",
       "      <th>group</th>\n",
       "      <th>orders</th>\n",
       "      <th>buyers</th>\n",
       "      <th>revenue</th>\n",
       "      <th>visitors</th>\n",
       "    </tr>\n",
       "  </thead>\n",
       "  <tbody>\n",
       "    <tr>\n",
       "      <th>0</th>\n",
       "      <td>2019-08-01</td>\n",
       "      <td>A</td>\n",
       "      <td>24</td>\n",
       "      <td>20</td>\n",
       "      <td>2356.8</td>\n",
       "      <td>719</td>\n",
       "    </tr>\n",
       "    <tr>\n",
       "      <th>1</th>\n",
       "      <td>2019-08-01</td>\n",
       "      <td>B</td>\n",
       "      <td>21</td>\n",
       "      <td>20</td>\n",
       "      <td>1620.0</td>\n",
       "      <td>713</td>\n",
       "    </tr>\n",
       "    <tr>\n",
       "      <th>2</th>\n",
       "      <td>2019-08-02</td>\n",
       "      <td>A</td>\n",
       "      <td>44</td>\n",
       "      <td>38</td>\n",
       "      <td>3860.3</td>\n",
       "      <td>1338</td>\n",
       "    </tr>\n",
       "    <tr>\n",
       "      <th>3</th>\n",
       "      <td>2019-08-02</td>\n",
       "      <td>B</td>\n",
       "      <td>45</td>\n",
       "      <td>43</td>\n",
       "      <td>4243.8</td>\n",
       "      <td>1294</td>\n",
       "    </tr>\n",
       "    <tr>\n",
       "      <th>4</th>\n",
       "      <td>2019-08-03</td>\n",
       "      <td>A</td>\n",
       "      <td>68</td>\n",
       "      <td>62</td>\n",
       "      <td>5675.5</td>\n",
       "      <td>1845</td>\n",
       "    </tr>\n",
       "  </tbody>\n",
       "</table>\n",
       "</div>"
      ],
      "text/plain": [
       "        date group  orders  buyers  revenue  visitors\n",
       "0 2019-08-01     A      24      20   2356.8       719\n",
       "1 2019-08-01     B      21      20   1620.0       713\n",
       "2 2019-08-02     A      44      38   3860.3      1338\n",
       "3 2019-08-02     B      45      43   4243.8      1294\n",
       "4 2019-08-03     A      68      62   5675.5      1845"
      ]
     },
     "execution_count": 14,
     "metadata": {},
     "output_type": "execute_result"
    }
   ],
   "source": [
    "cumulativeData = ordersAggregated.merge(visitorsAggregated, left_on=['date', 'group'], right_on=['date', 'group'])\n",
    "cumulativeData.columns = ['date', 'group', 'orders', 'buyers', 'revenue', 'visitors']\n",
    "cumulativeData.head(5)"
   ]
  },
  {
   "cell_type": "markdown",
   "metadata": {},
   "source": [
    "Mediante el `.merge()` se obtiene un nuevo dataset `cumulativeData` con el número de pedidos, clientes, monto gastado y visitantes por día y grupo."
   ]
  },
  {
   "cell_type": "code",
   "execution_count": 15,
   "metadata": {},
   "outputs": [
    {
     "data": {
      "text/html": [
       "<div>\n",
       "<style scoped>\n",
       "    .dataframe tbody tr th:only-of-type {\n",
       "        vertical-align: middle;\n",
       "    }\n",
       "\n",
       "    .dataframe tbody tr th {\n",
       "        vertical-align: top;\n",
       "    }\n",
       "\n",
       "    .dataframe thead th {\n",
       "        text-align: right;\n",
       "    }\n",
       "</style>\n",
       "<table border=\"1\" class=\"dataframe\">\n",
       "  <thead>\n",
       "    <tr style=\"text-align: right;\">\n",
       "      <th></th>\n",
       "      <th>date</th>\n",
       "      <th>revenue</th>\n",
       "      <th>orders</th>\n",
       "    </tr>\n",
       "  </thead>\n",
       "  <tbody>\n",
       "    <tr>\n",
       "      <th>0</th>\n",
       "      <td>2019-08-01</td>\n",
       "      <td>2356.8</td>\n",
       "      <td>24</td>\n",
       "    </tr>\n",
       "    <tr>\n",
       "      <th>2</th>\n",
       "      <td>2019-08-02</td>\n",
       "      <td>3860.3</td>\n",
       "      <td>44</td>\n",
       "    </tr>\n",
       "    <tr>\n",
       "      <th>4</th>\n",
       "      <td>2019-08-03</td>\n",
       "      <td>5675.5</td>\n",
       "      <td>68</td>\n",
       "    </tr>\n",
       "    <tr>\n",
       "      <th>6</th>\n",
       "      <td>2019-08-04</td>\n",
       "      <td>6822.1</td>\n",
       "      <td>84</td>\n",
       "    </tr>\n",
       "    <tr>\n",
       "      <th>8</th>\n",
       "      <td>2019-08-05</td>\n",
       "      <td>8810.2</td>\n",
       "      <td>109</td>\n",
       "    </tr>\n",
       "  </tbody>\n",
       "</table>\n",
       "</div>"
      ],
      "text/plain": [
       "        date  revenue  orders\n",
       "0 2019-08-01   2356.8      24\n",
       "2 2019-08-02   3860.3      44\n",
       "4 2019-08-03   5675.5      68\n",
       "6 2019-08-04   6822.1      84\n",
       "8 2019-08-05   8810.2     109"
      ]
     },
     "execution_count": 15,
     "metadata": {},
     "output_type": "execute_result"
    }
   ],
   "source": [
    "cumulativeRevenueA = cumulativeData[cumulativeData['group'] == 'A'][['date', 'revenue', 'orders']]\n",
    "cumulativeRevenueB = cumulativeData[cumulativeData['group'] == 'B'][['date', 'revenue', 'orders']]\n",
    "cumulativeRevenueA.head(5)"
   ]
  },
  {
   "cell_type": "markdown",
   "metadata": {},
   "source": [
    "Mediante filtrado se separa `CumulativeData` en dos datasets separados por grupo y se rescatan las columnas necesarias para construir el gráfico de ingreso acumulado."
   ]
  },
  {
   "cell_type": "code",
   "execution_count": 16,
   "metadata": {},
   "outputs": [
    {
     "data": {
      "image/png": "[encoded data removed]",
      "text/plain": [
       "<Figure size 640x480 with 1 Axes>"
      ]
     },
     "metadata": {},
     "output_type": "display_data"
    }
   ],
   "source": [
    "plt.plot(cumulativeRevenueA['date'], cumulativeRevenueA['revenue'], label='A')\n",
    "plt.plot(cumulativeRevenueB['date'], cumulativeRevenueB['revenue'], label='B')\n",
    "plt.title('Ingreso acumulado por grupo')\n",
    "plt.xticks(rotation=30)\n",
    "plt.legend();"
   ]
  },
  {
   "cell_type": "markdown",
   "metadata": {},
   "source": [
    "El ingreso acumulado sube constantemente en ambos grupos, sin embargo se obserban picos en ambas líneas, lo que quiere decir que hay pedidos extremadamente caros o aumentos repentinos en el número de compras. __El grupo B se observa claramente superior al grupo A__, pero se debe ser indagando y considerar los factores mencionados anteriormente."
   ]
  },
  {
   "cell_type": "markdown",
   "metadata": {},
   "source": [
    "### Pedido promedio acumulado por grupo"
   ]
  },
  {
   "cell_type": "markdown",
   "metadata": {},
   "source": [
    "Mediante la división entre el gasto total y el número de pedidos se obtiendrá el monto promedio de cada pedido."
   ]
  },
  {
   "cell_type": "code",
   "execution_count": 17,
   "metadata": {},
   "outputs": [
    {
     "data": {
      "image/png": "[encoded data removed]",
      "text/plain": [
       "<Figure size 640x480 with 1 Axes>"
      ]
     },
     "metadata": {},
     "output_type": "display_data"
    }
   ],
   "source": [
    "plt.plot(cumulativeRevenueA['date'], cumulativeRevenueA['revenue'] / cumulativeRevenueA['orders'], label='A')\n",
    "plt.plot(cumulativeRevenueB['date'], cumulativeRevenueB['revenue'] / cumulativeRevenueB['orders'], label='B')\n",
    "plt.title('Monto promedio de pedido acumulado por grupo')\n",
    "plt.xticks(rotation=30)\n",
    "plt.legend();"
   ]
  },
  {
   "cell_type": "markdown",
   "metadata": {},
   "source": [
    "__Se observa al grupo B superior al A__, sin embargo en este gráfico tambián se observan picos irregulares, lo que puede indicar valores atípicos muy grandes en el registro, se observa que la fecha en que se dispara el grupo B es la misma que en el gráfico anterior, esto indica que en esta fecha se realizó un (o más) pedido demasiado elevado en precio que deberá ser filtrado más adelante para un correcto análisis del experimento."
   ]
  },
  {
   "cell_type": "markdown",
   "metadata": {},
   "source": [
    "### Diferencia relativa de pedido promedio acumulado para el grupo B en comparación con el grupo A"
   ]
  },
  {
   "cell_type": "markdown",
   "metadata": {},
   "source": [
    "Visualizar la diferencia relativa en este campo puede ayudarnos a detectar más fácilmente la presencia de outliers en los montos de los pedidos. Mediante un `.merge()` se juntarán ambos `cumulativeRevenue` y se les agregarán sufijos `A` y `B` a las columnas, lo que permitirá hacer las divisiones correspondientes para aplicar la formula de la diferencia relativa."
   ]
  },
  {
   "cell_type": "code",
   "execution_count": 18,
   "metadata": {
    "scrolled": true
   },
   "outputs": [
    {
     "data": {
      "text/html": [
       "<div>\n",
       "<style scoped>\n",
       "    .dataframe tbody tr th:only-of-type {\n",
       "        vertical-align: middle;\n",
       "    }\n",
       "\n",
       "    .dataframe tbody tr th {\n",
       "        vertical-align: top;\n",
       "    }\n",
       "\n",
       "    .dataframe thead th {\n",
       "        text-align: right;\n",
       "    }\n",
       "</style>\n",
       "<table border=\"1\" class=\"dataframe\">\n",
       "  <thead>\n",
       "    <tr style=\"text-align: right;\">\n",
       "      <th></th>\n",
       "      <th>date</th>\n",
       "      <th>revenueA</th>\n",
       "      <th>ordersA</th>\n",
       "      <th>revenueB</th>\n",
       "      <th>ordersB</th>\n",
       "    </tr>\n",
       "  </thead>\n",
       "  <tbody>\n",
       "    <tr>\n",
       "      <th>0</th>\n",
       "      <td>2019-08-01</td>\n",
       "      <td>2356.8</td>\n",
       "      <td>24</td>\n",
       "      <td>1620.0</td>\n",
       "      <td>21</td>\n",
       "    </tr>\n",
       "    <tr>\n",
       "      <th>1</th>\n",
       "      <td>2019-08-02</td>\n",
       "      <td>3860.3</td>\n",
       "      <td>44</td>\n",
       "      <td>4243.8</td>\n",
       "      <td>45</td>\n",
       "    </tr>\n",
       "    <tr>\n",
       "      <th>2</th>\n",
       "      <td>2019-08-03</td>\n",
       "      <td>5675.5</td>\n",
       "      <td>68</td>\n",
       "      <td>6050.6</td>\n",
       "      <td>61</td>\n",
       "    </tr>\n",
       "    <tr>\n",
       "      <th>3</th>\n",
       "      <td>2019-08-04</td>\n",
       "      <td>6822.1</td>\n",
       "      <td>84</td>\n",
       "      <td>7767.9</td>\n",
       "      <td>78</td>\n",
       "    </tr>\n",
       "    <tr>\n",
       "      <th>4</th>\n",
       "      <td>2019-08-05</td>\n",
       "      <td>8810.2</td>\n",
       "      <td>109</td>\n",
       "      <td>9262.9</td>\n",
       "      <td>101</td>\n",
       "    </tr>\n",
       "  </tbody>\n",
       "</table>\n",
       "</div>"
      ],
      "text/plain": [
       "        date  revenueA  ordersA  revenueB  ordersB\n",
       "0 2019-08-01    2356.8       24    1620.0       21\n",
       "1 2019-08-02    3860.3       44    4243.8       45\n",
       "2 2019-08-03    5675.5       68    6050.6       61\n",
       "3 2019-08-04    6822.1       84    7767.9       78\n",
       "4 2019-08-05    8810.2      109    9262.9      101"
      ]
     },
     "execution_count": 18,
     "metadata": {},
     "output_type": "execute_result"
    }
   ],
   "source": [
    "mergedCumulativeRevenue = cumulativeRevenueA.merge(cumulativeRevenueB, left_on='date', right_on='date', how='left', suffixes=['A', 'B'])\n",
    "mergedCumulativeRevenue.head(5)"
   ]
  },
  {
   "cell_type": "markdown",
   "metadata": {},
   "source": [
    "Ya estamos listos para aplicar la formula y construir el gráfico."
   ]
  },
  {
   "cell_type": "code",
   "execution_count": 19,
   "metadata": {},
   "outputs": [
    {
     "data": {
      "image/png": "[encoded data removed]",
      "text/plain": [
       "<Figure size 640x480 with 1 Axes>"
      ]
     },
     "metadata": {},
     "output_type": "display_data"
    }
   ],
   "source": [
    "plt.plot(mergedCumulativeRevenue['date'], (mergedCumulativeRevenue['revenueB'] / mergedCumulativeRevenue['ordersB']) / (mergedCumulativeRevenue['revenueA'] / mergedCumulativeRevenue['ordersA']) -1)\n",
    "plt.axhline(y=0, color='black', linestyle='--')\n",
    "plt.title('Diferencia relativa de pedido promedio acumulado para el grupo B en comparación con el grupo A')\n",
    "plt.xticks(rotation=30);"
   ]
  },
  {
   "cell_type": "markdown",
   "metadata": {},
   "source": [
    "Las variaciones repentinas entre la línea puntada y la línea del gráfico demuestran que __efectivamente hay valores atípicos influyendo en la medición__, deberán ser filtrados más adelante."
   ]
  },
  {
   "cell_type": "markdown",
   "metadata": {},
   "source": [
    "### Tasa de conversión diaria por grupo"
   ]
  },
  {
   "cell_type": "markdown",
   "metadata": {},
   "source": [
    "Mediante una división entre el número de visitantes y de compradores se puede calcular la conversión acumulada, luego mediante filtros se separará por grupos para ser visualizada."
   ]
  },
  {
   "cell_type": "code",
   "execution_count": 20,
   "metadata": {},
   "outputs": [
    {
     "data": {
      "image/png": "[encoded data removed]",
      "text/plain": [
       "<Figure size 640x480 with 1 Axes>"
      ]
     },
     "metadata": {},
     "output_type": "display_data"
    }
   ],
   "source": [
    "cumulativeData['conversion'] = cumulativeData['orders'] / cumulativeData['visitors'] #Cálculos\n",
    "cumulativeData['date'] = cumulativeData['date'].astype('datetime64').dt.strftime('%Y-%m-%d')\n",
    "cumulativeDataA = cumulativeData[cumulativeData['group'] =='A']\n",
    "cumulativeDataB = cumulativeData[cumulativeData['group'] =='B']\n",
    "\n",
    "plt.plot(cumulativeDataA['date'], cumulativeDataA['conversion'], label='A') #Visualización\n",
    "plt.plot(cumulativeDataB['date'], cumulativeDataB['conversion'], label='B')\n",
    "plt.grid(True)\n",
    "plt.title('Tasa de conversión diaria por grupo')\n",
    "plt.legend()\n",
    "plt.axis(['2019-08-01', '2019-08-31', 0, 0.038])\n",
    "plt.xticks(rotation=90);"
   ]
  },
  {
   "cell_type": "markdown",
   "metadata": {},
   "source": [
    "En la tasa de conversión podemos apreciar claramente que __el grupo B se estabiliza por sobre el grupo A__ a partir del sexto día del experimento. "
   ]
  },
  {
   "cell_type": "markdown",
   "metadata": {},
   "source": [
    "### Diferencia relativa para la tasa de conversión acumulada para el grupo B en comparación con el grupo A"
   ]
  },
  {
   "cell_type": "markdown",
   "metadata": {},
   "source": [
    "Al igual que en el caso del monto de los pedidos, graficar la diferencia relativa en las tasas de conversión nos ayuda a cuantificar con mayor exactitud las diferencias entre dichas tasas. Para comenzar, se crea `mergedCumulativeConversions` que es un registro de la tasa de conversión acumulada de cada grupo por día."
   ]
  },
  {
   "cell_type": "code",
   "execution_count": 21,
   "metadata": {},
   "outputs": [
    {
     "data": {
      "text/html": [
       "<div>\n",
       "<style scoped>\n",
       "    .dataframe tbody tr th:only-of-type {\n",
       "        vertical-align: middle;\n",
       "    }\n",
       "\n",
       "    .dataframe tbody tr th {\n",
       "        vertical-align: top;\n",
       "    }\n",
       "\n",
       "    .dataframe thead th {\n",
       "        text-align: right;\n",
       "    }\n",
       "</style>\n",
       "<table border=\"1\" class=\"dataframe\">\n",
       "  <thead>\n",
       "    <tr style=\"text-align: right;\">\n",
       "      <th></th>\n",
       "      <th>date</th>\n",
       "      <th>conversionA</th>\n",
       "      <th>conversionB</th>\n",
       "    </tr>\n",
       "  </thead>\n",
       "  <tbody>\n",
       "    <tr>\n",
       "      <th>0</th>\n",
       "      <td>2019-08-01</td>\n",
       "      <td>0.033380</td>\n",
       "      <td>0.029453</td>\n",
       "    </tr>\n",
       "    <tr>\n",
       "      <th>1</th>\n",
       "      <td>2019-08-02</td>\n",
       "      <td>0.032885</td>\n",
       "      <td>0.034776</td>\n",
       "    </tr>\n",
       "    <tr>\n",
       "      <th>2</th>\n",
       "      <td>2019-08-03</td>\n",
       "      <td>0.036856</td>\n",
       "      <td>0.033833</td>\n",
       "    </tr>\n",
       "    <tr>\n",
       "      <th>3</th>\n",
       "      <td>2019-08-04</td>\n",
       "      <td>0.032787</td>\n",
       "      <td>0.030315</td>\n",
       "    </tr>\n",
       "    <tr>\n",
       "      <th>4</th>\n",
       "      <td>2019-08-05</td>\n",
       "      <td>0.032851</td>\n",
       "      <td>0.030793</td>\n",
       "    </tr>\n",
       "  </tbody>\n",
       "</table>\n",
       "</div>"
      ],
      "text/plain": [
       "         date  conversionA  conversionB\n",
       "0  2019-08-01     0.033380     0.029453\n",
       "1  2019-08-02     0.032885     0.034776\n",
       "2  2019-08-03     0.036856     0.033833\n",
       "3  2019-08-04     0.032787     0.030315\n",
       "4  2019-08-05     0.032851     0.030793"
      ]
     },
     "execution_count": 21,
     "metadata": {},
     "output_type": "execute_result"
    }
   ],
   "source": [
    "mergedCumulativeConversions = cumulativeDataA[['date','conversion']].merge(cumulativeDataB[['date','conversion']], left_on='date', right_on='date', how='left', suffixes=['A', 'B'])\n",
    "mergedCumulativeConversions.head(5)"
   ]
  },
  {
   "cell_type": "markdown",
   "metadata": {},
   "source": [
    "Con el dataset creado, aplicamos la formula y construímos el gráfico."
   ]
  },
  {
   "cell_type": "code",
   "execution_count": 22,
   "metadata": {},
   "outputs": [
    {
     "data": {
      "image/png": "[encoded data removed]",
      "text/plain": [
       "<Figure size 640x480 with 1 Axes>"
      ]
     },
     "metadata": {},
     "output_type": "display_data"
    }
   ],
   "source": [
    "plt.plot(mergedCumulativeConversions['date'], mergedCumulativeConversions['conversionB'] / mergedCumulativeConversions['conversionA'] -1)\n",
    "plt.title('Diferencia relativa para la tasa de conversión acumulada para el grupo B en comparación con el grupo A')\n",
    "plt.grid(True)\n",
    "plt.axhline(y=0, color='black', linestyle='--')\n",
    "plt.axhline(y=0.1, color='gray', linestyle='--')\n",
    "plt.xticks(rotation=90);"
   ]
  },
  {
   "cell_type": "markdown",
   "metadata": {},
   "source": [
    "Después de unos 9 días de empezada la prueba se tienden a estabilizar las tasas de conversión, __siendo la del grupo B por lo bajo un 10% superior a la del grupo A__, el gráfico también muestra que esto iría al alza."
   ]
  },
  {
   "cell_type": "markdown",
   "metadata": {},
   "source": [
    "### Dispersión del número de pedidos por usuario"
   ]
  },
  {
   "cell_type": "markdown",
   "metadata": {},
   "source": [
    "Mediante un gráfico de dispersión y el cálculo de percentiles extremos se pueden encontrar los valores atípicos que podrían afectar el análisis del test. Para poder generar el gráfico se creará `ordersByUsers` que es un dataset con el número de pedidos de cada cliente."
   ]
  },
  {
   "cell_type": "code",
   "execution_count": 23,
   "metadata": {},
   "outputs": [
    {
     "data": {
      "text/html": [
       "<div>\n",
       "<style scoped>\n",
       "    .dataframe tbody tr th:only-of-type {\n",
       "        vertical-align: middle;\n",
       "    }\n",
       "\n",
       "    .dataframe tbody tr th {\n",
       "        vertical-align: top;\n",
       "    }\n",
       "\n",
       "    .dataframe thead th {\n",
       "        text-align: right;\n",
       "    }\n",
       "</style>\n",
       "<table border=\"1\" class=\"dataframe\">\n",
       "  <thead>\n",
       "    <tr style=\"text-align: right;\">\n",
       "      <th></th>\n",
       "      <th>visitorId</th>\n",
       "      <th>orders</th>\n",
       "    </tr>\n",
       "  </thead>\n",
       "  <tbody>\n",
       "    <tr>\n",
       "      <th>0</th>\n",
       "      <td>5114589</td>\n",
       "      <td>1</td>\n",
       "    </tr>\n",
       "    <tr>\n",
       "      <th>1</th>\n",
       "      <td>6958315</td>\n",
       "      <td>1</td>\n",
       "    </tr>\n",
       "    <tr>\n",
       "      <th>2</th>\n",
       "      <td>8300375</td>\n",
       "      <td>2</td>\n",
       "    </tr>\n",
       "    <tr>\n",
       "      <th>3</th>\n",
       "      <td>11685486</td>\n",
       "      <td>1</td>\n",
       "    </tr>\n",
       "    <tr>\n",
       "      <th>4</th>\n",
       "      <td>39475350</td>\n",
       "      <td>1</td>\n",
       "    </tr>\n",
       "  </tbody>\n",
       "</table>\n",
       "</div>"
      ],
      "text/plain": [
       "   visitorId  orders\n",
       "0    5114589       1\n",
       "1    6958315       1\n",
       "2    8300375       2\n",
       "3   11685486       1\n",
       "4   39475350       1"
      ]
     },
     "execution_count": 23,
     "metadata": {},
     "output_type": "execute_result"
    }
   ],
   "source": [
    "orders['date'] = orders['date'].astype('datetime64').dt.strftime('%Y-%m-%d')\n",
    "ordersByUsers = (orders.drop(['group', 'revenue', 'date'], axis=1).groupby('visitorId', as_index=False).agg({'transactionId': pd.Series.nunique}))\n",
    "ordersByUsers.columns = ['visitorId', 'orders']\n",
    "ordersByUsers.head(5)"
   ]
  },
  {
   "cell_type": "markdown",
   "metadata": {},
   "source": [
    "Una vez listo el dataset, procedemos a construir el gráfico de dispersión."
   ]
  },
  {
   "cell_type": "code",
   "execution_count": 24,
   "metadata": {},
   "outputs": [
    {
     "data": {
      "image/png": "[encoded data removed]",
      "text/plain": [
       "<Figure size 640x480 with 1 Axes>"
      ]
     },
     "metadata": {},
     "output_type": "display_data"
    }
   ],
   "source": [
    "x_values = pd.Series(range(0,len(ordersByUsers)))\n",
    "plt.scatter(x_values, ordersByUsers['orders'])\n",
    "plt.title('Número de pedidos por usuario');"
   ]
  },
  {
   "cell_type": "code",
   "execution_count": 25,
   "metadata": {},
   "outputs": [
    {
     "name": "stdout",
     "output_type": "stream",
     "text": [
      "[2. 4.]\n"
     ]
    }
   ],
   "source": [
    "print(np.percentile(ordersByUsers['orders'], [95, 99]))"
   ]
  },
  {
   "cell_type": "markdown",
   "metadata": {},
   "source": [
    "Después de observar el gráfico y el cálculo de los percentiles 95 y 99 del número de pedidos por cliente, __se considerará como usuario atípico todo el que supere los 3 pedidos__. Se observan valores atípicos muy altos, confirmando la teoría planteada anteriormente."
   ]
  },
  {
   "cell_type": "markdown",
   "metadata": {},
   "source": [
    "### Dispersión de los precios de los pedidos"
   ]
  },
  {
   "cell_type": "markdown",
   "metadata": {},
   "source": [
    "De la misma forma usada con el número de pedidos por usuario, se calcularán los outliersn para los precios de los pedidos. Esta vez, comenzamos con el gráfico."
   ]
  },
  {
   "cell_type": "code",
   "execution_count": 26,
   "metadata": {
    "scrolled": true
   },
   "outputs": [
    {
     "data": {
      "image/png": "[encoded data removed]",
      "text/plain": [
       "<Figure size 640x480 with 1 Axes>"
      ]
     },
     "metadata": {},
     "output_type": "display_data"
    },
    {
     "data": {
      "image/png": "[encoded data removed]",
      "text/plain": [
       "<Figure size 640x480 with 1 Axes>"
      ]
     },
     "metadata": {},
     "output_type": "display_data"
    }
   ],
   "source": [
    "x_values = pd.Series(range(0,len(orders)))\n",
    "plt.scatter(x_values, orders['revenue'])\n",
    "plt.title('Precios de los pedidos')\n",
    "plt.show()\n",
    "plt.scatter(x_values, orders['revenue'])\n",
    "plt.title('Precios de los pedidos (zoom)')\n",
    "plt.ylim(0, 1400);"
   ]
  },
  {
   "cell_type": "markdown",
   "metadata": {},
   "source": [
    "Se observan valores atípicos extremadamente altos, tanto, que se tuvo que imprimir nuevamente el gráfico con el eje y recortado. Pasamos ahora al cálculo de percentiles extremos."
   ]
  },
  {
   "cell_type": "code",
   "execution_count": 27,
   "metadata": {},
   "outputs": [
    {
     "name": "stdout",
     "output_type": "stream",
     "text": [
      "[435.54  900.904]\n"
     ]
    }
   ],
   "source": [
    "print(np.percentile(orders['revenue'], [95, 99]))"
   ]
  },
  {
   "cell_type": "markdown",
   "metadata": {},
   "source": [
    "Después de observar el gráfico y el cálculo de los percentiles 95 y 99 del precio de los pedidos, __se considerará como usuario atípico todo el que haga pedidos por sobre los 600 dólares__. Se observan valores atípicos muy altos, confirmando la teoría planteada anteriormente."
   ]
  },
  {
   "cell_type": "markdown",
   "metadata": {},
   "source": [
    "### Significancia estadística de la diferencia en la conversión entre los grupos (datos sin filtrar)"
   ]
  },
  {
   "cell_type": "markdown",
   "metadata": {},
   "source": [
    "Para comenzar con el cálculo requerido el primer paso es crear datasets para el número de pedidos por cliente, uno para cada grupo."
   ]
  },
  {
   "cell_type": "code",
   "execution_count": 28,
   "metadata": {},
   "outputs": [
    {
     "data": {
      "text/html": [
       "<div>\n",
       "<style scoped>\n",
       "    .dataframe tbody tr th:only-of-type {\n",
       "        vertical-align: middle;\n",
       "    }\n",
       "\n",
       "    .dataframe tbody tr th {\n",
       "        vertical-align: top;\n",
       "    }\n",
       "\n",
       "    .dataframe thead th {\n",
       "        text-align: right;\n",
       "    }\n",
       "</style>\n",
       "<table border=\"1\" class=\"dataframe\">\n",
       "  <thead>\n",
       "    <tr style=\"text-align: right;\">\n",
       "      <th></th>\n",
       "      <th>visitorId</th>\n",
       "      <th>orders</th>\n",
       "    </tr>\n",
       "  </thead>\n",
       "  <tbody>\n",
       "    <tr>\n",
       "      <th>0</th>\n",
       "      <td>8300375</td>\n",
       "      <td>1</td>\n",
       "    </tr>\n",
       "    <tr>\n",
       "      <th>1</th>\n",
       "      <td>11685486</td>\n",
       "      <td>1</td>\n",
       "    </tr>\n",
       "    <tr>\n",
       "      <th>2</th>\n",
       "      <td>54447517</td>\n",
       "      <td>1</td>\n",
       "    </tr>\n",
       "    <tr>\n",
       "      <th>3</th>\n",
       "      <td>66685450</td>\n",
       "      <td>1</td>\n",
       "    </tr>\n",
       "    <tr>\n",
       "      <th>4</th>\n",
       "      <td>78758296</td>\n",
       "      <td>1</td>\n",
       "    </tr>\n",
       "  </tbody>\n",
       "</table>\n",
       "</div>"
      ],
      "text/plain": [
       "   visitorId  orders\n",
       "0    8300375       1\n",
       "1   11685486       1\n",
       "2   54447517       1\n",
       "3   66685450       1\n",
       "4   78758296       1"
      ]
     },
     "execution_count": 28,
     "metadata": {},
     "output_type": "execute_result"
    }
   ],
   "source": [
    "ordersByUsersA = orders[orders['group'] == 'A'].groupby('visitorId', as_index=False).agg({'transactionId' : pd.Series.nunique})\n",
    "ordersByUsersA.columns = ['visitorId', 'orders']\n",
    "\n",
    "ordersByUsersB = orders[orders['group'] == 'B'].groupby('visitorId', as_index=False).agg({'transactionId' : pd.Series.nunique})\n",
    "ordersByUsersB.columns = ['visitorId', 'orders']\n",
    "\n",
    "ordersByUsersA.head(5)"
   ]
  },
  {
   "cell_type": "markdown",
   "metadata": {},
   "source": [
    "Ahora, se creará un dataset `sample` para cada grupo, que será una lista donde cada elemento es el número de pedidos realizados por cierto usuario, incluidos los ceros. Aplicando la función `.mean()` se podrá calcular fácilmente la tasa de conversión para cada grupo."
   ]
  },
  {
   "cell_type": "code",
   "execution_count": 29,
   "metadata": {},
   "outputs": [
    {
     "data": {
      "text/plain": [
       "0    1\n",
       "1    1\n",
       "2    1\n",
       "3    1\n",
       "4    1\n",
       "Name: orders, dtype: int64"
      ]
     },
     "execution_count": 29,
     "metadata": {},
     "output_type": "execute_result"
    }
   ],
   "source": [
    "sampleA = pd.concat([ordersByUsersA['orders'], \n",
    "                     pd.Series(0, index=np.arange(visits[visits['group'] == 'A']['visits'].sum() - len(ordersByUsersA['orders'])), \n",
    "                               name='orders')], axis=0)\n",
    "\n",
    "sampleB = pd.concat([ordersByUsersB['orders'], \n",
    "                     pd.Series(0, index=np.arange(visits[visits['group'] == 'B']['visits'].sum() - len(ordersByUsersB['orders'])), \n",
    "                               name='orders')], axis=0)\n",
    "\n",
    "sampleA.head(5)"
   ]
  },
  {
   "cell_type": "markdown",
   "metadata": {},
   "source": [
    "Una vez listos los `sample` podemos calcular la significacia estadística y la diferencia relativa del grupo B en relación al grupo A."
   ]
  },
  {
   "cell_type": "code",
   "execution_count": 30,
   "metadata": {},
   "outputs": [
    {
     "name": "stdout",
     "output_type": "stream",
     "text": [
      "valor p: 0.016792355056752608\n",
      "Rechazamos la hipótesis nula\n",
      "\n",
      "Diferencia relativa del grupo B en relación al grupo A: 13.81%\n"
     ]
    }
   ],
   "source": [
    "alpha = .05\n",
    "result = st.mannwhitneyu(sampleA, sampleB)[1]\n",
    "print('valor p:', result)\n",
    "if result < alpha:\n",
    "    print(\"Rechazamos la hipótesis nula\")\n",
    "else:\n",
    "    print(\"No podemos rechazar la hipótesis nula\")\n",
    "print()\n",
    "difference = sampleB.mean()/sampleA.mean()-1\n",
    "print('Diferencia relativa del grupo B en relación al grupo A:' ,'{0:.2%}'.format(difference))"
   ]
  },
  {
   "cell_type": "markdown",
   "metadata": {},
   "source": [
    "Según los datos sin procesar, hay una diferencia estadísticamente significativa y se rechaza la hipótesis nula, ya que el valor p es menor a 0.05. Dicha diferencia sería en favor del grupo B, ya que la segunda salida muestra una __ventaja relativa del grupo B, siendo un 13.8% superior al grupo A en la tasa de conversión__."
   ]
  },
  {
   "cell_type": "markdown",
   "metadata": {},
   "source": [
    "### Significancia estadística de la diferencia en el tamaño promedio de pedido entre los grupos (datos sin filtrar)"
   ]
  },
  {
   "cell_type": "markdown",
   "metadata": {},
   "source": [
    "Usando el mismo método que en el item anterior, realizaremos la prueba estadística y calcularemos la diferencia relativa del grupo B frente a l grupo A."
   ]
  },
  {
   "cell_type": "code",
   "execution_count": 31,
   "metadata": {},
   "outputs": [
    {
     "name": "stdout",
     "output_type": "stream",
     "text": [
      "valor p: 0.6915246773264736\n",
      "No podemos rechazar la hipótesis nula\n",
      "\n",
      "Diferencia relativa del grupo B en relación al grupo A: 25.17%\n"
     ]
    }
   ],
   "source": [
    "alpha = .05\n",
    "result = st.mannwhitneyu(orders[orders['group'] == 'A']['revenue'], orders[orders['group'] == 'B']['revenue'])[1]\n",
    "print('valor p:', result)\n",
    "if result < alpha:\n",
    "    print(\"Rechazamos la hipótesis nula\")\n",
    "else:\n",
    "    print(\"No podemos rechazar la hipótesis nula\")\n",
    "print()\n",
    "difference = orders[orders['group'] == 'B']['revenue'].mean() / orders[orders['group'] == 'A']['revenue'].mean() -1\n",
    "print('Diferencia relativa del grupo B en relación al grupo A:' ,'{0:.2%}'.format(difference))"
   ]
  },
  {
   "cell_type": "markdown",
   "metadata": {},
   "source": [
    "El valor p es notablemente superior a 0.05 por lo que __no hay motivo para rechazar la hipótesis nula__ y concluir que el tamaño medio de los pedidos difiere entre los grupos. No obstante, el tamaño de pedido promedio para el grupo B es un 25.17% más grande que el del grupo A, esto se debe a que la prueba estadística aplicada (Mann-Whitney) realiza una comparación basada diferencia de intervalos y no en valores medios como la prueba t, entonces los valores atípicos detectados anteriormente influyen poco en los resultados de la prueba."
   ]
  },
  {
   "cell_type": "markdown",
   "metadata": {},
   "source": [
    "### Significancia estadística de la diferencia en la conversión entre los grupos (datos filtrados)"
   ]
  },
  {
   "cell_type": "markdown",
   "metadata": {},
   "source": [
    "Repetiremos la prueba estadística para las tasas de conversión, pero esta vez lo debemos filtrar los outliers primero."
   ]
  },
  {
   "cell_type": "code",
   "execution_count": 32,
   "metadata": {},
   "outputs": [
    {
     "name": "stdout",
     "output_type": "stream",
     "text": [
      "Usuarios atípicos: 40\n",
      "3.88% del total\n"
     ]
    }
   ],
   "source": [
    "usersWithManyOrders = pd.concat([ordersByUsersA[ordersByUsersA['orders'] > 3]['visitorId'], ordersByUsersB[ordersByUsersB['orders'] > 2]['visitorId']], axis = 0)\n",
    "usersWithExpensiveOrders = orders[orders['revenue'] > 600]['visitorId']\n",
    "\n",
    "abnormalUsers = pd.concat([usersWithManyOrders, usersWithExpensiveOrders], axis = 0).drop_duplicates().sort_values()\n",
    "\n",
    "print('Usuarios atípicos:' ,abnormalUsers.shape[0])\n",
    "print('{0:.2%} del total'.format(abnormalUsers.shape[0] / len(ordersByUsers)))"
   ]
  },
  {
   "cell_type": "markdown",
   "metadata": {},
   "source": [
    "Se crea `abnormalUsers` que es una combinación de dos filtros para eliminar valores atípicos mediante el filtrado de usuarios que hayan hecho más de 3 pedidos o que hayan hecho al menos un pedido de más de 600 dólares. Una constituído el filtro se puede apreciar que __existen 40 usuarios que serán filtrados__."
   ]
  },
  {
   "cell_type": "code",
   "execution_count": 33,
   "metadata": {},
   "outputs": [],
   "source": [
    "sampleAFiltered = pd.concat([ordersByUsersA[np.logical_not(ordersByUsersA['visitorId'].isin(abnormalUsers))]['orders'],pd.Series(0, index=np.arange(visits[visits['group']=='A']['visits'].sum() - len(ordersByUsersA['orders'])),name='orders')],axis=0)\n",
    "\n",
    "sampleBFiltered = pd.concat([ordersByUsersB[np.logical_not(ordersByUsersB['visitorId'].isin(abnormalUsers))]['orders'],pd.Series(0, index=np.arange(visits[visits['group']=='B']['visits'].sum() - len(ordersByUsersB['orders'])),name='orders')],axis=0)"
   ]
  },
  {
   "cell_type": "markdown",
   "metadata": {},
   "source": [
    "Mediante filtrado lógico se extrajeron estos usuarios de los datasets `sample` para realizar la prueba nuevamente."
   ]
  },
  {
   "cell_type": "code",
   "execution_count": 34,
   "metadata": {},
   "outputs": [
    {
     "name": "stdout",
     "output_type": "stream",
     "text": [
      "No podemos rechazar la hipótesis nula\n",
      "\n",
      "Diferencia relativa del grupo B en relación al grupo A: 14.33%\n"
     ]
    }
   ],
   "source": [
    "alpha = .05\n",
    "results = st.mannwhitneyu(sampleAFiltered, sampleBFiltered)[1]\n",
    "if result < alpha:\n",
    "    print(\"Rechazamos la hipótesis nula\")\n",
    "else:\n",
    "    print(\"No podemos rechazar la hipótesis nula\")\n",
    "print()\n",
    "difference = sampleBFiltered.mean()/sampleAFiltered.mean()-1\n",
    "print('Diferencia relativa del grupo B en relación al grupo A:' ,'{0:.2%}'.format(difference))"
   ]
  },
  {
   "cell_type": "markdown",
   "metadata": {},
   "source": [
    "__Los resultados se mantienen, Se rechaza la hipótesis nula en favor del grupo B, con una difierencia relativa del 14.3%__ porcentaje muy parecido al 13.8% de los datos sin filtrar."
   ]
  },
  {
   "cell_type": "markdown",
   "metadata": {},
   "source": [
    "### Significancia estadística de la diferencia en el tamaño promedio de pedido entre los grupos (datos filtrados)"
   ]
  },
  {
   "cell_type": "markdown",
   "metadata": {},
   "source": [
    "Repetiremos la prueba estadística para el tamaño promedio, pero esta vez lo haremos filtrando los outliers."
   ]
  },
  {
   "cell_type": "code",
   "execution_count": 35,
   "metadata": {},
   "outputs": [
    {
     "name": "stdout",
     "output_type": "stream",
     "text": [
      "valor p: 0.6915246773264736\n",
      "No podemos rechazar la hipótesis nula\n",
      "\n",
      "Diferencia relativa del grupo B en relación al grupo A: 5.44%\n"
     ]
    }
   ],
   "source": [
    "alpha = .05\n",
    "results = st.mannwhitneyu(orders[np.logical_and(orders['group'] == 'A', np.logical_not(orders['visitorId'].isin(abnormalUsers)))]['revenue'], \n",
    "                                          orders[np.logical_and(orders['group'] == 'B', np.logical_not(orders['visitorId'].isin(abnormalUsers)))]['revenue'])[1]\n",
    "print('valor p:', result)\n",
    "if result < alpha:\n",
    "    print(\"Rechazamos la hipótesis nula\")\n",
    "else:\n",
    "    print(\"No podemos rechazar la hipótesis nula\")\n",
    "print()\n",
    "difference = orders[np.logical_and(orders['group'] == 'B', np.logical_not(orders['visitorId'].isin(abnormalUsers)))]['revenue'].mean() / orders[np.logical_and(orders['group'] == 'A', np.logical_not(orders['visitorId'].isin(abnormalUsers)))]['revenue'].mean() - 1\n",
    "print('Diferencia relativa del grupo B en relación al grupo A:' ,'{0:.2%}'.format(difference))"
   ]
  },
  {
   "cell_type": "markdown",
   "metadata": {},
   "source": [
    "__Los resultados también se mantienen en este caso, no se puede rechazar la hipótesis nula, sin embargo el grupo B sigue mostrando una ventaja relativa__, solo que en este caso es del 5.4% (mucho menor a la registrada con los datos sin filtrar) lo cual considerando los valores atípicos detectados, es de esperar."
   ]
  },
  {
   "cell_type": "markdown",
   "metadata": {},
   "source": [
    "## Conclusión del análisis del test A/B"
   ]
  },
  {
   "cell_type": "markdown",
   "metadata": {},
   "source": [
    "En este apartado se desarollarán ampliamente todas las conclusiones obtenidas en el desarrollo del experimento, haciendo hincapié en los aspectos fundamentales del trabajo, como lo son: la resolución final del experimento, impacto de elecciones de preprocesamiento y relevancia de los descubrimientos."
   ]
  },
  {
   "cell_type": "markdown",
   "metadata": {},
   "source": [
    "### Resolución final del experimento"
   ]
  },
  {
   "cell_type": "markdown",
   "metadata": {},
   "source": [
    "__Se decide terminar con el test y concluir que el grupo B es el líder, debido a que en absolutamente todas las mediciones es superior al grupo A y, además, se probó estadísticamente (tanto con datos sin filtrar, como filtrados) que tiene una mejor tasa de conversión que el grupo A. En cuanto al tamaño promedio del pedido por grupo, no se pudo rechazar la hipótesis nula, pero si se observa superior en las mediciones relativas__."
   ]
  },
  {
   "cell_type": "markdown",
   "metadata": {},
   "source": [
    "### Impacto de elecciones en preprocesamiento"
   ]
  },
  {
   "cell_type": "markdown",
   "metadata": {},
   "source": [
    "En cuanto a preprocesamiento, la elección que más impacto pudo haber tenido es la de filtrar outliers, en nuestro caso mediante el filtro establecido en: __usuario que supere los tres pedidos registrados o haga al menos un pedido superior a 600 dólares. Se detectaron 40 usuarios anormales, que representaron sólo un 3.88% del total__. En cuanto a las pruebas estadísticas no hubo mayores diferencias entre valores filtrados y sin filtrar."
   ]
  },
  {
   "cell_type": "markdown",
   "metadata": {},
   "source": [
    "### Relevancia de los descubrimientos"
   ]
  },
  {
   "cell_type": "markdown",
   "metadata": {},
   "source": [
    "El experimento demostró que: \n",
    "- __El grupo B convierte, por lo bajo, un 14.3% más que el grupo A__ (resultado de prueba con datos filtrados).\n",
    "- __Los pedidos del grupo B son un 5.44% más caros en precio que los del grupo A__ (resultado de prueba con datos filtrados).\n",
    "\n",
    "Esto significa que implementar la solución del grupo B va a generar grandes ganancias a la compañía dependiendo del tamaño y el flujo de clientes que tenga, por lo que se debe implementar lo antes posible."
   ]
  }
 ],
 "metadata": {
  "ExecuteTimeLog": [
   {
    "duration": 4895,
    "start_time": "2024-07-22T14:47:24.389Z"
   },
   {
    "duration": 14,
    "start_time": "2024-07-22T14:48:16.785Z"
   },
   {
    "duration": 13,
    "start_time": "2024-07-22T14:48:34.138Z"
   },
   {
    "duration": 8,
    "start_time": "2024-07-22T14:48:59.256Z"
   },
   {
    "duration": 7,
    "start_time": "2024-07-22T14:49:01.845Z"
   },
   {
    "duration": 11,
    "start_time": "2024-07-22T14:49:03.501Z"
   },
   {
    "duration": 14,
    "start_time": "2024-07-22T14:54:05.046Z"
   },
   {
    "duration": 16,
    "start_time": "2024-07-22T14:55:35.266Z"
   },
   {
    "duration": 203,
    "start_time": "2024-07-22T14:58:11.048Z"
   },
   {
    "duration": 15,
    "start_time": "2024-07-22T14:58:18.861Z"
   },
   {
    "duration": 10,
    "start_time": "2024-07-22T14:59:15.641Z"
   },
   {
    "duration": 1054,
    "start_time": "2024-07-22T14:59:44.410Z"
   },
   {
    "duration": 7,
    "start_time": "2024-07-22T14:59:54.267Z"
   },
   {
    "duration": 81,
    "start_time": "2024-07-22T15:00:05.101Z"
   },
   {
    "duration": 402,
    "start_time": "2024-07-22T15:00:12.104Z"
   },
   {
    "duration": 72,
    "start_time": "2024-07-22T15:00:18.398Z"
   },
   {
    "duration": 81,
    "start_time": "2024-07-22T15:00:24.320Z"
   },
   {
    "duration": 7,
    "start_time": "2024-07-22T15:03:32.443Z"
   },
   {
    "duration": 5,
    "start_time": "2024-07-22T15:04:05.771Z"
   },
   {
    "duration": 5,
    "start_time": "2024-07-22T15:05:32.403Z"
   },
   {
    "duration": 5,
    "start_time": "2024-07-22T15:06:03.363Z"
   },
   {
    "duration": 5,
    "start_time": "2024-07-22T15:07:06.720Z"
   },
   {
    "duration": 14,
    "start_time": "2024-07-22T15:08:29.821Z"
   },
   {
    "duration": 1270,
    "start_time": "2024-07-22T15:08:37.934Z"
   },
   {
    "duration": 11,
    "start_time": "2024-07-22T15:08:39.209Z"
   },
   {
    "duration": 17,
    "start_time": "2024-07-22T15:08:39.223Z"
   },
   {
    "duration": 38,
    "start_time": "2024-07-22T15:08:39.243Z"
   },
   {
    "duration": 5,
    "start_time": "2024-07-22T15:08:39.286Z"
   },
   {
    "duration": 18,
    "start_time": "2024-07-22T15:08:39.295Z"
   },
   {
    "duration": 6,
    "start_time": "2024-07-22T15:08:39.317Z"
   },
   {
    "duration": 14,
    "start_time": "2024-07-22T15:09:49.165Z"
   },
   {
    "duration": 467,
    "start_time": "2024-07-22T15:11:55.917Z"
   },
   {
    "duration": 15,
    "start_time": "2024-07-22T15:11:59.156Z"
   },
   {
    "duration": 19,
    "start_time": "2024-07-22T15:12:00.529Z"
   },
   {
    "duration": 12,
    "start_time": "2024-07-22T15:12:13.686Z"
   },
   {
    "duration": 12,
    "start_time": "2024-07-22T15:12:15.994Z"
   },
   {
    "duration": 11,
    "start_time": "2024-07-22T15:12:44.766Z"
   },
   {
    "duration": 15,
    "start_time": "2024-07-22T15:12:49.752Z"
   },
   {
    "duration": 10,
    "start_time": "2024-07-22T15:12:53.540Z"
   },
   {
    "duration": 14,
    "start_time": "2024-07-22T15:13:08.970Z"
   },
   {
    "duration": 11,
    "start_time": "2024-07-22T15:13:16.154Z"
   },
   {
    "duration": 12,
    "start_time": "2024-07-22T15:14:25.183Z"
   },
   {
    "duration": 17,
    "start_time": "2024-07-22T15:15:50.944Z"
   },
   {
    "duration": 4,
    "start_time": "2024-07-22T15:16:58.115Z"
   },
   {
    "duration": 5,
    "start_time": "2024-07-22T15:18:05.121Z"
   },
   {
    "duration": 428,
    "start_time": "2024-07-22T15:18:12.111Z"
   },
   {
    "duration": 116,
    "start_time": "2024-07-22T15:18:40.428Z"
   },
   {
    "duration": 111,
    "start_time": "2024-07-22T15:20:09.485Z"
   },
   {
    "duration": 14,
    "start_time": "2024-07-22T15:20:33.653Z"
   },
   {
    "duration": 12,
    "start_time": "2024-07-22T15:21:49.417Z"
   },
   {
    "duration": 10,
    "start_time": "2024-07-22T15:21:51.740Z"
   },
   {
    "duration": 16,
    "start_time": "2024-07-22T15:21:55.958Z"
   },
   {
    "duration": 67,
    "start_time": "2024-07-22T15:22:00.950Z"
   },
   {
    "duration": 10,
    "start_time": "2024-07-22T15:22:56.341Z"
   },
   {
    "duration": 13,
    "start_time": "2024-07-22T15:23:03.461Z"
   },
   {
    "duration": 16,
    "start_time": "2024-07-22T15:23:12.377Z"
   },
   {
    "duration": 30,
    "start_time": "2024-07-22T15:26:15.041Z"
   },
   {
    "duration": 7,
    "start_time": "2024-07-22T15:26:25.246Z"
   },
   {
    "duration": 8,
    "start_time": "2024-07-22T16:05:36.563Z"
   },
   {
    "duration": 775,
    "start_time": "2024-07-22T16:06:44.101Z"
   },
   {
    "duration": 17,
    "start_time": "2024-07-22T16:07:43.115Z"
   },
   {
    "duration": 271,
    "start_time": "2024-07-22T16:08:13.342Z"
   },
   {
    "duration": 22,
    "start_time": "2024-07-22T16:11:59.564Z"
   },
   {
    "duration": 18,
    "start_time": "2024-07-22T16:12:19.009Z"
   },
   {
    "duration": 169,
    "start_time": "2024-07-22T16:12:48.777Z"
   },
   {
    "duration": 9,
    "start_time": "2024-07-22T16:13:56.591Z"
   },
   {
    "duration": 25,
    "start_time": "2024-07-22T16:14:02.925Z"
   },
   {
    "duration": 18,
    "start_time": "2024-07-22T17:02:55.281Z"
   },
   {
    "duration": 1289,
    "start_time": "2024-07-22T22:39:18.102Z"
   },
   {
    "duration": 10,
    "start_time": "2024-07-22T22:39:19.394Z"
   },
   {
    "duration": 15,
    "start_time": "2024-07-22T22:39:19.407Z"
   },
   {
    "duration": 11,
    "start_time": "2024-07-22T22:39:19.424Z"
   },
   {
    "duration": 17,
    "start_time": "2024-07-22T22:39:19.468Z"
   },
   {
    "duration": 11,
    "start_time": "2024-07-22T22:39:19.489Z"
   },
   {
    "duration": 14,
    "start_time": "2024-07-22T22:39:19.503Z"
   },
   {
    "duration": 49,
    "start_time": "2024-07-22T22:39:19.520Z"
   },
   {
    "duration": 17,
    "start_time": "2024-07-22T22:39:19.572Z"
   },
   {
    "duration": 5,
    "start_time": "2024-07-22T22:39:19.593Z"
   },
   {
    "duration": 16,
    "start_time": "2024-07-22T22:39:19.602Z"
   },
   {
    "duration": 50,
    "start_time": "2024-07-22T22:39:19.621Z"
   },
   {
    "duration": 9,
    "start_time": "2024-07-22T22:39:19.674Z"
   },
   {
    "duration": 15,
    "start_time": "2024-07-22T22:39:19.689Z"
   },
   {
    "duration": 298,
    "start_time": "2024-07-22T22:39:19.707Z"
   },
   {
    "duration": 165,
    "start_time": "2024-07-22T22:39:20.008Z"
   },
   {
    "duration": 19,
    "start_time": "2024-07-22T22:39:20.176Z"
   },
   {
    "duration": 9,
    "start_time": "2024-07-22T22:43:13.005Z"
   },
   {
    "duration": 245,
    "start_time": "2024-07-22T22:45:05.810Z"
   },
   {
    "duration": 243,
    "start_time": "2024-07-22T22:46:16.799Z"
   },
   {
    "duration": 276,
    "start_time": "2024-07-22T22:46:24.604Z"
   },
   {
    "duration": 245,
    "start_time": "2024-07-22T22:46:39.551Z"
   },
   {
    "duration": 246,
    "start_time": "2024-07-22T22:50:54.724Z"
   },
   {
    "duration": 17,
    "start_time": "2024-07-22T22:55:26.762Z"
   },
   {
    "duration": 236,
    "start_time": "2024-07-22T22:56:22.919Z"
   },
   {
    "duration": 355,
    "start_time": "2024-07-22T22:57:01.764Z"
   },
   {
    "duration": 280,
    "start_time": "2024-07-22T23:09:59.688Z"
   },
   {
    "duration": 295,
    "start_time": "2024-07-22T23:12:31.141Z"
   },
   {
    "duration": 2060,
    "start_time": "2024-07-22T23:13:56.817Z"
   },
   {
    "duration": 410,
    "start_time": "2024-07-22T23:14:26.507Z"
   },
   {
    "duration": 294,
    "start_time": "2024-07-22T23:14:34.229Z"
   },
   {
    "duration": 422,
    "start_time": "2024-07-22T23:19:44.852Z"
   },
   {
    "duration": 402,
    "start_time": "2024-07-22T23:20:55.591Z"
   },
   {
    "duration": 300,
    "start_time": "2024-07-22T23:21:04.770Z"
   },
   {
    "duration": 434,
    "start_time": "2024-07-22T23:21:46.205Z"
   },
   {
    "duration": 297,
    "start_time": "2024-07-22T23:21:49.765Z"
   },
   {
    "duration": 35,
    "start_time": "2024-07-22T23:22:57.192Z"
   },
   {
    "duration": 29,
    "start_time": "2024-07-22T23:23:06.878Z"
   },
   {
    "duration": 34,
    "start_time": "2024-07-22T23:24:58.720Z"
   },
   {
    "duration": 29,
    "start_time": "2024-07-22T23:25:03.181Z"
   },
   {
    "duration": 28,
    "start_time": "2024-07-22T23:25:23.303Z"
   },
   {
    "duration": 305,
    "start_time": "2024-07-22T23:27:19.090Z"
   },
   {
    "duration": 403,
    "start_time": "2024-07-22T23:27:30.776Z"
   },
   {
    "duration": 9,
    "start_time": "2024-07-22T23:28:39.843Z"
   },
   {
    "duration": 1173,
    "start_time": "2024-07-22T23:28:44.918Z"
   },
   {
    "duration": 391,
    "start_time": "2024-07-22T23:29:42.479Z"
   },
   {
    "duration": 420,
    "start_time": "2024-07-22T23:30:27.751Z"
   },
   {
    "duration": 534,
    "start_time": "2024-07-22T23:30:38.325Z"
   },
   {
    "duration": 385,
    "start_time": "2024-07-22T23:31:20.769Z"
   },
   {
    "duration": 18,
    "start_time": "2024-07-22T23:33:55.754Z"
   },
   {
    "duration": 430,
    "start_time": "2024-07-22T23:35:09.320Z"
   },
   {
    "duration": 454,
    "start_time": "2024-07-22T23:35:18.359Z"
   },
   {
    "duration": 21,
    "start_time": "2024-07-22T23:44:18.261Z"
   },
   {
    "duration": 14,
    "start_time": "2024-07-22T23:45:04.226Z"
   },
   {
    "duration": 32,
    "start_time": "2024-07-22T23:45:08.552Z"
   },
   {
    "duration": 38,
    "start_time": "2024-07-22T23:48:37.710Z"
   },
   {
    "duration": 227,
    "start_time": "2024-07-22T23:48:45.727Z"
   },
   {
    "duration": 251,
    "start_time": "2024-07-22T23:49:20.544Z"
   },
   {
    "duration": 237,
    "start_time": "2024-07-22T23:49:29.135Z"
   },
   {
    "duration": 242,
    "start_time": "2024-07-22T23:49:38.067Z"
   },
   {
    "duration": 250,
    "start_time": "2024-07-22T23:49:55.103Z"
   },
   {
    "duration": 213,
    "start_time": "2024-07-22T23:50:04.549Z"
   },
   {
    "duration": 176,
    "start_time": "2024-07-22T23:51:52.331Z"
   },
   {
    "duration": 5,
    "start_time": "2024-07-22T23:54:17.772Z"
   },
   {
    "duration": 6,
    "start_time": "2024-07-22T23:57:15.273Z"
   },
   {
    "duration": 767,
    "start_time": "2024-07-22T23:57:42.188Z"
   },
   {
    "duration": 205,
    "start_time": "2024-07-22T23:57:49.191Z"
   },
   {
    "duration": 382,
    "start_time": "2024-07-22T23:58:07.594Z"
   },
   {
    "duration": 385,
    "start_time": "2024-07-22T23:59:25.437Z"
   },
   {
    "duration": 425,
    "start_time": "2024-07-23T00:00:57.073Z"
   },
   {
    "duration": 324,
    "start_time": "2024-07-23T13:24:13.159Z"
   },
   {
    "duration": 5126,
    "start_time": "2024-07-23T13:24:19.178Z"
   },
   {
    "duration": 11,
    "start_time": "2024-07-23T13:24:24.308Z"
   },
   {
    "duration": 16,
    "start_time": "2024-07-23T13:24:24.322Z"
   },
   {
    "duration": 15,
    "start_time": "2024-07-23T13:24:24.341Z"
   },
   {
    "duration": 13,
    "start_time": "2024-07-23T13:24:24.389Z"
   },
   {
    "duration": 11,
    "start_time": "2024-07-23T13:24:24.406Z"
   },
   {
    "duration": 12,
    "start_time": "2024-07-23T13:24:24.420Z"
   },
   {
    "duration": 58,
    "start_time": "2024-07-23T13:24:24.436Z"
   },
   {
    "duration": 18,
    "start_time": "2024-07-23T13:24:24.497Z"
   },
   {
    "duration": 6,
    "start_time": "2024-07-23T13:24:24.518Z"
   },
   {
    "duration": 16,
    "start_time": "2024-07-23T13:24:24.527Z"
   },
   {
    "duration": 46,
    "start_time": "2024-07-23T13:24:24.546Z"
   },
   {
    "duration": 8,
    "start_time": "2024-07-23T13:24:24.595Z"
   },
   {
    "duration": 473,
    "start_time": "2024-07-23T13:24:24.609Z"
   },
   {
    "duration": 20,
    "start_time": "2024-07-23T13:24:25.090Z"
   },
   {
    "duration": 18,
    "start_time": "2024-07-23T13:24:25.114Z"
   },
   {
    "duration": 308,
    "start_time": "2024-07-23T13:24:25.135Z"
   },
   {
    "duration": 269,
    "start_time": "2024-07-23T13:24:25.446Z"
   },
   {
    "duration": 353,
    "start_time": "2024-07-23T13:24:25.717Z"
   },
   {
    "duration": 416,
    "start_time": "2024-07-23T13:24:26.074Z"
   },
   {
    "duration": 18,
    "start_time": "2024-07-23T13:24:26.494Z"
   },
   {
    "duration": 466,
    "start_time": "2024-07-23T13:24:26.514Z"
   },
   {
    "duration": 245,
    "start_time": "2024-07-23T13:24:26.984Z"
   },
   {
    "duration": 212,
    "start_time": "2024-07-23T13:24:27.231Z"
   },
   {
    "duration": 7,
    "start_time": "2024-07-23T13:24:27.446Z"
   },
   {
    "duration": 462,
    "start_time": "2024-07-23T13:24:27.456Z"
   },
   {
    "duration": 6,
    "start_time": "2024-07-23T13:24:27.921Z"
   },
   {
    "duration": 504,
    "start_time": "2024-07-23T13:24:40.499Z"
   },
   {
    "duration": 407,
    "start_time": "2024-07-23T13:24:51.590Z"
   },
   {
    "duration": 404,
    "start_time": "2024-07-23T13:25:12.094Z"
   },
   {
    "duration": 416,
    "start_time": "2024-07-23T13:25:41.418Z"
   },
   {
    "duration": 1161,
    "start_time": "2024-07-23T13:28:12.216Z"
   },
   {
    "duration": 251,
    "start_time": "2024-07-23T13:28:55.272Z"
   },
   {
    "duration": 380,
    "start_time": "2024-07-23T13:29:00.106Z"
   },
   {
    "duration": 239,
    "start_time": "2024-07-23T13:29:36.970Z"
   },
   {
    "duration": 237,
    "start_time": "2024-07-23T13:29:44.423Z"
   },
   {
    "duration": 242,
    "start_time": "2024-07-23T13:29:52.248Z"
   },
   {
    "duration": 483,
    "start_time": "2024-07-23T13:32:44.436Z"
   },
   {
    "duration": 10,
    "start_time": "2024-07-23T13:32:59.713Z"
   },
   {
    "duration": 14,
    "start_time": "2024-07-23T13:33:13.147Z"
   },
   {
    "duration": 28,
    "start_time": "2024-07-23T13:33:42.872Z"
   },
   {
    "duration": 31,
    "start_time": "2024-07-23T13:34:25.266Z"
   },
   {
    "duration": 31,
    "start_time": "2024-07-23T13:34:34.997Z"
   },
   {
    "duration": 27,
    "start_time": "2024-07-23T13:42:13.973Z"
   },
   {
    "duration": 16,
    "start_time": "2024-07-23T13:42:18.611Z"
   },
   {
    "duration": 15,
    "start_time": "2024-07-23T13:47:31.953Z"
   },
   {
    "duration": 0,
    "start_time": "2024-07-23T13:55:05.346Z"
   },
   {
    "duration": 0,
    "start_time": "2024-07-23T13:55:05.348Z"
   },
   {
    "duration": 0,
    "start_time": "2024-07-23T13:55:05.351Z"
   },
   {
    "duration": 0,
    "start_time": "2024-07-23T13:55:05.353Z"
   },
   {
    "duration": 0,
    "start_time": "2024-07-23T13:55:05.356Z"
   },
   {
    "duration": 0,
    "start_time": "2024-07-23T13:55:05.358Z"
   },
   {
    "duration": 0,
    "start_time": "2024-07-23T13:55:05.362Z"
   },
   {
    "duration": 0,
    "start_time": "2024-07-23T13:55:05.363Z"
   },
   {
    "duration": 0,
    "start_time": "2024-07-23T13:55:05.365Z"
   },
   {
    "duration": 0,
    "start_time": "2024-07-23T13:55:05.391Z"
   },
   {
    "duration": 0,
    "start_time": "2024-07-23T13:55:05.394Z"
   },
   {
    "duration": 0,
    "start_time": "2024-07-23T13:55:05.397Z"
   },
   {
    "duration": 0,
    "start_time": "2024-07-23T13:55:05.399Z"
   },
   {
    "duration": 0,
    "start_time": "2024-07-23T13:55:05.402Z"
   },
   {
    "duration": 0,
    "start_time": "2024-07-23T13:55:05.404Z"
   },
   {
    "duration": 0,
    "start_time": "2024-07-23T13:55:05.406Z"
   },
   {
    "duration": 0,
    "start_time": "2024-07-23T13:55:05.408Z"
   },
   {
    "duration": 0,
    "start_time": "2024-07-23T13:55:05.410Z"
   },
   {
    "duration": 0,
    "start_time": "2024-07-23T13:55:05.414Z"
   },
   {
    "duration": 0,
    "start_time": "2024-07-23T13:55:05.417Z"
   },
   {
    "duration": 0,
    "start_time": "2024-07-23T13:55:05.419Z"
   },
   {
    "duration": 0,
    "start_time": "2024-07-23T13:55:05.421Z"
   },
   {
    "duration": 1,
    "start_time": "2024-07-23T13:55:05.423Z"
   },
   {
    "duration": 0,
    "start_time": "2024-07-23T13:55:05.426Z"
   },
   {
    "duration": 0,
    "start_time": "2024-07-23T13:55:05.428Z"
   },
   {
    "duration": 0,
    "start_time": "2024-07-23T13:55:05.490Z"
   },
   {
    "duration": 0,
    "start_time": "2024-07-23T13:55:05.493Z"
   },
   {
    "duration": 0,
    "start_time": "2024-07-23T13:55:05.495Z"
   },
   {
    "duration": 0,
    "start_time": "2024-07-23T13:55:05.503Z"
   },
   {
    "duration": 0,
    "start_time": "2024-07-23T13:55:05.505Z"
   },
   {
    "duration": 0,
    "start_time": "2024-07-23T13:55:05.507Z"
   },
   {
    "duration": 0,
    "start_time": "2024-07-23T13:55:05.508Z"
   },
   {
    "duration": 1276,
    "start_time": "2024-07-23T14:01:58.102Z"
   },
   {
    "duration": 10,
    "start_time": "2024-07-23T14:01:59.390Z"
   },
   {
    "duration": 15,
    "start_time": "2024-07-23T14:01:59.403Z"
   },
   {
    "duration": 11,
    "start_time": "2024-07-23T14:01:59.422Z"
   },
   {
    "duration": 12,
    "start_time": "2024-07-23T14:01:59.437Z"
   },
   {
    "duration": 45,
    "start_time": "2024-07-23T14:01:59.452Z"
   },
   {
    "duration": 12,
    "start_time": "2024-07-23T14:01:59.501Z"
   },
   {
    "duration": 14,
    "start_time": "2024-07-23T14:01:59.517Z"
   },
   {
    "duration": 59,
    "start_time": "2024-07-23T14:01:59.534Z"
   },
   {
    "duration": 5,
    "start_time": "2024-07-23T14:01:59.601Z"
   },
   {
    "duration": 17,
    "start_time": "2024-07-23T14:01:59.610Z"
   },
   {
    "duration": 7,
    "start_time": "2024-07-23T14:01:59.631Z"
   },
   {
    "duration": 51,
    "start_time": "2024-07-23T14:01:59.641Z"
   },
   {
    "duration": 421,
    "start_time": "2024-07-23T14:01:59.695Z"
   },
   {
    "duration": 19,
    "start_time": "2024-07-23T14:02:00.119Z"
   },
   {
    "duration": 17,
    "start_time": "2024-07-23T14:02:00.143Z"
   },
   {
    "duration": 299,
    "start_time": "2024-07-23T14:02:00.163Z"
   },
   {
    "duration": 262,
    "start_time": "2024-07-23T14:02:00.465Z"
   },
   {
    "duration": 421,
    "start_time": "2024-07-23T14:02:00.729Z"
   },
   {
    "duration": 390,
    "start_time": "2024-07-23T14:02:01.153Z"
   },
   {
    "duration": 18,
    "start_time": "2024-07-23T14:02:01.546Z"
   },
   {
    "duration": 481,
    "start_time": "2024-07-23T14:02:01.567Z"
   },
   {
    "duration": 252,
    "start_time": "2024-07-23T14:02:02.051Z"
   },
   {
    "duration": 197,
    "start_time": "2024-07-23T14:02:02.305Z"
   },
   {
    "duration": 7,
    "start_time": "2024-07-23T14:02:02.507Z"
   },
   {
    "duration": 454,
    "start_time": "2024-07-23T14:02:02.518Z"
   },
   {
    "duration": 17,
    "start_time": "2024-07-23T14:02:02.975Z"
   },
   {
    "duration": 255,
    "start_time": "2024-07-23T14:02:03.000Z"
   },
   {
    "duration": 34,
    "start_time": "2024-07-23T14:02:03.258Z"
   },
   {
    "duration": 32,
    "start_time": "2024-07-23T14:02:03.299Z"
   },
   {
    "duration": 15,
    "start_time": "2024-07-23T14:02:03.334Z"
   },
   {
    "duration": 1272,
    "start_time": "2024-07-23T14:02:03.352Z"
   },
   {
    "duration": 94,
    "start_time": "2024-07-23T14:02:22.562Z"
   },
   {
    "duration": 1280,
    "start_time": "2024-07-23T14:04:46.560Z"
   },
   {
    "duration": 9,
    "start_time": "2024-07-23T14:04:47.844Z"
   },
   {
    "duration": 18,
    "start_time": "2024-07-23T14:04:47.855Z"
   },
   {
    "duration": 23,
    "start_time": "2024-07-23T14:04:47.875Z"
   },
   {
    "duration": 14,
    "start_time": "2024-07-23T14:04:47.903Z"
   },
   {
    "duration": 11,
    "start_time": "2024-07-23T14:04:47.920Z"
   },
   {
    "duration": 11,
    "start_time": "2024-07-23T14:04:47.933Z"
   },
   {
    "duration": 55,
    "start_time": "2024-07-23T14:04:47.947Z"
   },
   {
    "duration": 15,
    "start_time": "2024-07-23T14:04:48.006Z"
   },
   {
    "duration": 5,
    "start_time": "2024-07-23T14:04:48.024Z"
   },
   {
    "duration": 16,
    "start_time": "2024-07-23T14:04:48.032Z"
   },
   {
    "duration": 6,
    "start_time": "2024-07-23T14:04:48.092Z"
   },
   {
    "duration": 9,
    "start_time": "2024-07-23T14:04:48.101Z"
   },
   {
    "duration": 440,
    "start_time": "2024-07-23T14:04:48.118Z"
   },
   {
    "duration": 30,
    "start_time": "2024-07-23T14:04:48.560Z"
   },
   {
    "duration": 16,
    "start_time": "2024-07-23T14:04:48.594Z"
   },
   {
    "duration": 289,
    "start_time": "2024-07-23T14:04:48.613Z"
   },
   {
    "duration": 268,
    "start_time": "2024-07-23T14:04:48.905Z"
   },
   {
    "duration": 427,
    "start_time": "2024-07-23T14:04:49.176Z"
   },
   {
    "duration": 401,
    "start_time": "2024-07-23T14:04:49.606Z"
   },
   {
    "duration": 17,
    "start_time": "2024-07-23T14:04:50.011Z"
   },
   {
    "duration": 478,
    "start_time": "2024-07-23T14:04:50.032Z"
   },
   {
    "duration": 268,
    "start_time": "2024-07-23T14:04:50.513Z"
   },
   {
    "duration": 187,
    "start_time": "2024-07-23T14:04:50.791Z"
   },
   {
    "duration": 12,
    "start_time": "2024-07-23T14:04:50.981Z"
   },
   {
    "duration": 412,
    "start_time": "2024-07-23T14:04:50.996Z"
   },
   {
    "duration": 6,
    "start_time": "2024-07-23T14:04:51.411Z"
   },
   {
    "duration": 256,
    "start_time": "2024-07-23T14:04:51.420Z"
   },
   {
    "duration": 17,
    "start_time": "2024-07-23T14:04:51.689Z"
   },
   {
    "duration": 32,
    "start_time": "2024-07-23T14:04:51.710Z"
   },
   {
    "duration": 49,
    "start_time": "2024-07-23T14:04:51.746Z"
   },
   {
    "duration": 13,
    "start_time": "2024-07-23T14:04:51.798Z"
   },
   {
    "duration": 12,
    "start_time": "2024-07-23T14:06:00.938Z"
   },
   {
    "duration": 1281,
    "start_time": "2024-07-23T14:09:44.271Z"
   },
   {
    "duration": 9,
    "start_time": "2024-07-23T14:09:45.556Z"
   },
   {
    "duration": 31,
    "start_time": "2024-07-23T14:09:45.568Z"
   },
   {
    "duration": 13,
    "start_time": "2024-07-23T14:09:45.602Z"
   },
   {
    "duration": 13,
    "start_time": "2024-07-23T14:09:45.621Z"
   },
   {
    "duration": 9,
    "start_time": "2024-07-23T14:09:45.638Z"
   },
   {
    "duration": 47,
    "start_time": "2024-07-23T14:09:45.651Z"
   },
   {
    "duration": 15,
    "start_time": "2024-07-23T14:09:45.701Z"
   },
   {
    "duration": 17,
    "start_time": "2024-07-23T14:09:45.719Z"
   },
   {
    "duration": 6,
    "start_time": "2024-07-23T14:09:45.739Z"
   },
   {
    "duration": 16,
    "start_time": "2024-07-23T14:09:45.790Z"
   },
   {
    "duration": 6,
    "start_time": "2024-07-23T14:09:45.809Z"
   },
   {
    "duration": 8,
    "start_time": "2024-07-23T14:09:45.819Z"
   },
   {
    "duration": 469,
    "start_time": "2024-07-23T14:09:45.835Z"
   },
   {
    "duration": 20,
    "start_time": "2024-07-23T14:09:46.306Z"
   },
   {
    "duration": 17,
    "start_time": "2024-07-23T14:09:46.329Z"
   },
   {
    "duration": 297,
    "start_time": "2024-07-23T14:09:46.349Z"
   },
   {
    "duration": 273,
    "start_time": "2024-07-23T14:09:46.649Z"
   },
   {
    "duration": 437,
    "start_time": "2024-07-23T14:09:46.925Z"
   },
   {
    "duration": 396,
    "start_time": "2024-07-23T14:09:47.365Z"
   },
   {
    "duration": 31,
    "start_time": "2024-07-23T14:09:47.764Z"
   },
   {
    "duration": 447,
    "start_time": "2024-07-23T14:09:47.799Z"
   },
   {
    "duration": 231,
    "start_time": "2024-07-23T14:09:48.250Z"
   },
   {
    "duration": 195,
    "start_time": "2024-07-23T14:09:48.484Z"
   },
   {
    "duration": 10,
    "start_time": "2024-07-23T14:09:48.682Z"
   },
   {
    "duration": 431,
    "start_time": "2024-07-23T14:09:48.696Z"
   },
   {
    "duration": 6,
    "start_time": "2024-07-23T14:09:49.129Z"
   },
   {
    "duration": 261,
    "start_time": "2024-07-23T14:09:49.138Z"
   },
   {
    "duration": 15,
    "start_time": "2024-07-23T14:09:49.401Z"
   },
   {
    "duration": 35,
    "start_time": "2024-07-23T14:09:49.419Z"
   },
   {
    "duration": 46,
    "start_time": "2024-07-23T14:09:49.457Z"
   },
   {
    "duration": 13,
    "start_time": "2024-07-23T14:09:49.506Z"
   },
   {
    "duration": 7,
    "start_time": "2024-07-23T14:11:09.405Z"
   },
   {
    "duration": 12,
    "start_time": "2024-07-23T14:11:40.197Z"
   },
   {
    "duration": 1277,
    "start_time": "2024-07-23T14:12:26.008Z"
   },
   {
    "duration": 13,
    "start_time": "2024-07-23T14:13:19.838Z"
   },
   {
    "duration": 26,
    "start_time": "2024-07-23T14:13:41.583Z"
   },
   {
    "duration": 31,
    "start_time": "2024-07-23T14:13:53.746Z"
   },
   {
    "duration": 35,
    "start_time": "2024-07-23T14:18:01.334Z"
   },
   {
    "duration": 18,
    "start_time": "2024-07-23T14:18:10.036Z"
   },
   {
    "duration": 19,
    "start_time": "2024-07-23T14:18:18.592Z"
   },
   {
    "duration": 9,
    "start_time": "2024-07-23T14:41:42.158Z"
   },
   {
    "duration": 7,
    "start_time": "2024-07-23T14:55:18.987Z"
   },
   {
    "duration": 325,
    "start_time": "2024-07-23T19:24:36.637Z"
   },
   {
    "duration": 4961,
    "start_time": "2024-07-23T19:24:43.177Z"
   },
   {
    "duration": 15,
    "start_time": "2024-07-23T19:24:48.142Z"
   },
   {
    "duration": 15,
    "start_time": "2024-07-23T19:24:48.160Z"
   },
   {
    "duration": 14,
    "start_time": "2024-07-23T19:24:48.177Z"
   },
   {
    "duration": 48,
    "start_time": "2024-07-23T19:24:48.195Z"
   },
   {
    "duration": 8,
    "start_time": "2024-07-23T19:24:48.246Z"
   },
   {
    "duration": 0,
    "start_time": "2024-07-23T19:24:48.259Z"
   },
   {
    "duration": 0,
    "start_time": "2024-07-23T19:24:48.261Z"
   },
   {
    "duration": 0,
    "start_time": "2024-07-23T19:24:48.263Z"
   },
   {
    "duration": 0,
    "start_time": "2024-07-23T19:24:48.265Z"
   },
   {
    "duration": 0,
    "start_time": "2024-07-23T19:24:48.267Z"
   },
   {
    "duration": 0,
    "start_time": "2024-07-23T19:24:48.270Z"
   },
   {
    "duration": 0,
    "start_time": "2024-07-23T19:24:48.272Z"
   },
   {
    "duration": 0,
    "start_time": "2024-07-23T19:24:48.274Z"
   },
   {
    "duration": 0,
    "start_time": "2024-07-23T19:24:48.276Z"
   },
   {
    "duration": 0,
    "start_time": "2024-07-23T19:24:48.278Z"
   },
   {
    "duration": 0,
    "start_time": "2024-07-23T19:24:48.280Z"
   },
   {
    "duration": 0,
    "start_time": "2024-07-23T19:24:48.334Z"
   },
   {
    "duration": 0,
    "start_time": "2024-07-23T19:24:48.336Z"
   },
   {
    "duration": 0,
    "start_time": "2024-07-23T19:24:48.338Z"
   },
   {
    "duration": 0,
    "start_time": "2024-07-23T19:24:48.343Z"
   },
   {
    "duration": 0,
    "start_time": "2024-07-23T19:24:48.345Z"
   },
   {
    "duration": 0,
    "start_time": "2024-07-23T19:24:48.348Z"
   },
   {
    "duration": 0,
    "start_time": "2024-07-23T19:24:48.349Z"
   },
   {
    "duration": 0,
    "start_time": "2024-07-23T19:24:48.352Z"
   },
   {
    "duration": 0,
    "start_time": "2024-07-23T19:24:48.356Z"
   },
   {
    "duration": 0,
    "start_time": "2024-07-23T19:24:48.358Z"
   },
   {
    "duration": 0,
    "start_time": "2024-07-23T19:24:48.361Z"
   },
   {
    "duration": 0,
    "start_time": "2024-07-23T19:24:48.363Z"
   },
   {
    "duration": 0,
    "start_time": "2024-07-23T19:24:48.365Z"
   },
   {
    "duration": 0,
    "start_time": "2024-07-23T19:24:48.367Z"
   },
   {
    "duration": 0,
    "start_time": "2024-07-23T19:24:48.371Z"
   },
   {
    "duration": 0,
    "start_time": "2024-07-23T19:24:48.373Z"
   },
   {
    "duration": 0,
    "start_time": "2024-07-23T19:24:48.375Z"
   },
   {
    "duration": 0,
    "start_time": "2024-07-23T19:24:48.434Z"
   },
   {
    "duration": 0,
    "start_time": "2024-07-23T19:24:48.435Z"
   },
   {
    "duration": 1219,
    "start_time": "2024-07-23T19:25:16.594Z"
   },
   {
    "duration": 18,
    "start_time": "2024-07-23T19:25:17.816Z"
   },
   {
    "duration": 15,
    "start_time": "2024-07-23T19:25:17.837Z"
   },
   {
    "duration": 11,
    "start_time": "2024-07-23T19:25:17.856Z"
   },
   {
    "duration": 24,
    "start_time": "2024-07-23T19:25:17.870Z"
   },
   {
    "duration": 11,
    "start_time": "2024-07-23T19:25:17.934Z"
   },
   {
    "duration": 11,
    "start_time": "2024-07-23T19:25:17.948Z"
   },
   {
    "duration": 14,
    "start_time": "2024-07-23T19:25:17.962Z"
   },
   {
    "duration": 16,
    "start_time": "2024-07-23T19:25:17.979Z"
   },
   {
    "duration": 5,
    "start_time": "2024-07-23T19:25:18.037Z"
   },
   {
    "duration": 19,
    "start_time": "2024-07-23T19:25:18.046Z"
   },
   {
    "duration": 6,
    "start_time": "2024-07-23T19:25:18.069Z"
   },
   {
    "duration": 8,
    "start_time": "2024-07-23T19:25:18.078Z"
   },
   {
    "duration": 434,
    "start_time": "2024-07-23T19:25:18.133Z"
   },
   {
    "duration": 19,
    "start_time": "2024-07-23T19:25:18.570Z"
   },
   {
    "duration": 18,
    "start_time": "2024-07-23T19:25:18.592Z"
   },
   {
    "duration": 274,
    "start_time": "2024-07-23T19:25:18.636Z"
   },
   {
    "duration": 265,
    "start_time": "2024-07-23T19:25:18.913Z"
   },
   {
    "duration": 428,
    "start_time": "2024-07-23T19:25:19.180Z"
   },
   {
    "duration": 393,
    "start_time": "2024-07-23T19:25:19.612Z"
   },
   {
    "duration": 34,
    "start_time": "2024-07-23T19:25:20.007Z"
   },
   {
    "duration": 455,
    "start_time": "2024-07-23T19:25:20.044Z"
   },
   {
    "duration": 232,
    "start_time": "2024-07-23T19:25:20.502Z"
   },
   {
    "duration": 187,
    "start_time": "2024-07-23T19:25:20.738Z"
   },
   {
    "duration": 6,
    "start_time": "2024-07-23T19:25:20.935Z"
   },
   {
    "duration": 431,
    "start_time": "2024-07-23T19:25:20.944Z"
   },
   {
    "duration": 7,
    "start_time": "2024-07-23T19:25:21.379Z"
   },
   {
    "duration": 264,
    "start_time": "2024-07-23T19:25:21.395Z"
   },
   {
    "duration": 14,
    "start_time": "2024-07-23T19:25:21.662Z"
   },
   {
    "duration": 56,
    "start_time": "2024-07-23T19:25:21.679Z"
   },
   {
    "duration": 14,
    "start_time": "2024-07-23T19:25:21.738Z"
   },
   {
    "duration": 13,
    "start_time": "2024-07-23T19:25:21.755Z"
   },
   {
    "duration": 13,
    "start_time": "2024-07-23T19:25:21.772Z"
   },
   {
    "duration": 71,
    "start_time": "2024-07-23T19:25:21.788Z"
   },
   {
    "duration": 20,
    "start_time": "2024-07-23T19:25:21.862Z"
   },
   {
    "duration": 380,
    "start_time": "2024-07-23T19:49:30.956Z"
   },
   {
    "duration": 337,
    "start_time": "2024-07-23T19:50:29.886Z"
   },
   {
    "duration": 4872,
    "start_time": "2024-07-24T01:25:39.742Z"
   },
   {
    "duration": 16,
    "start_time": "2024-07-24T01:25:44.619Z"
   },
   {
    "duration": 15,
    "start_time": "2024-07-24T01:25:44.638Z"
   },
   {
    "duration": 15,
    "start_time": "2024-07-24T01:25:44.655Z"
   },
   {
    "duration": 25,
    "start_time": "2024-07-24T01:25:44.674Z"
   },
   {
    "duration": 11,
    "start_time": "2024-07-24T01:25:44.733Z"
   },
   {
    "duration": 10,
    "start_time": "2024-07-24T01:25:44.746Z"
   },
   {
    "duration": 14,
    "start_time": "2024-07-24T01:25:44.760Z"
   },
   {
    "duration": 58,
    "start_time": "2024-07-24T01:25:44.777Z"
   },
   {
    "duration": 6,
    "start_time": "2024-07-24T01:25:44.838Z"
   },
   {
    "duration": 18,
    "start_time": "2024-07-24T01:25:44.848Z"
   },
   {
    "duration": 6,
    "start_time": "2024-07-24T01:25:44.870Z"
   },
   {
    "duration": 53,
    "start_time": "2024-07-24T01:25:44.879Z"
   },
   {
    "duration": 412,
    "start_time": "2024-07-24T01:25:44.942Z"
   },
   {
    "duration": 18,
    "start_time": "2024-07-24T01:25:45.357Z"
   },
   {
    "duration": 24,
    "start_time": "2024-07-24T01:25:45.378Z"
   },
   {
    "duration": 289,
    "start_time": "2024-07-24T01:25:45.405Z"
   },
   {
    "duration": 271,
    "start_time": "2024-07-24T01:25:45.697Z"
   },
   {
    "duration": 347,
    "start_time": "2024-07-24T01:25:45.971Z"
   },
   {
    "duration": 384,
    "start_time": "2024-07-24T01:25:46.321Z"
   },
   {
    "duration": 28,
    "start_time": "2024-07-24T01:25:46.708Z"
   },
   {
    "duration": 472,
    "start_time": "2024-07-24T01:25:46.739Z"
   },
   {
    "duration": 250,
    "start_time": "2024-07-24T01:25:47.214Z"
   },
   {
    "duration": 254,
    "start_time": "2024-07-24T01:25:47.467Z"
   },
   {
    "duration": 10,
    "start_time": "2024-07-24T01:25:47.725Z"
   },
   {
    "duration": 426,
    "start_time": "2024-07-24T01:25:47.739Z"
   },
   {
    "duration": 6,
    "start_time": "2024-07-24T01:25:48.168Z"
   },
   {
    "duration": 281,
    "start_time": "2024-07-24T01:25:48.177Z"
   },
   {
    "duration": 15,
    "start_time": "2024-07-24T01:25:48.461Z"
   },
   {
    "duration": 55,
    "start_time": "2024-07-24T01:25:48.479Z"
   },
   {
    "duration": 15,
    "start_time": "2024-07-24T01:25:48.537Z"
   },
   {
    "duration": 12,
    "start_time": "2024-07-24T01:25:48.555Z"
   },
   {
    "duration": 13,
    "start_time": "2024-07-24T01:25:48.570Z"
   },
   {
    "duration": 71,
    "start_time": "2024-07-24T01:25:48.585Z"
   },
   {
    "duration": 17,
    "start_time": "2024-07-24T01:25:48.659Z"
   },
   {
    "duration": 1296,
    "start_time": "2024-07-24T01:56:31.573Z"
   },
   {
    "duration": 10,
    "start_time": "2024-07-24T01:56:32.872Z"
   },
   {
    "duration": 17,
    "start_time": "2024-07-24T01:56:32.885Z"
   },
   {
    "duration": 27,
    "start_time": "2024-07-24T01:56:32.906Z"
   },
   {
    "duration": 24,
    "start_time": "2024-07-24T01:56:32.936Z"
   },
   {
    "duration": 8,
    "start_time": "2024-07-24T01:56:32.963Z"
   },
   {
    "duration": 11,
    "start_time": "2024-07-24T01:56:32.974Z"
   },
   {
    "duration": 53,
    "start_time": "2024-07-24T01:56:32.990Z"
   },
   {
    "duration": 16,
    "start_time": "2024-07-24T01:56:33.047Z"
   },
   {
    "duration": 5,
    "start_time": "2024-07-24T01:56:33.069Z"
   },
   {
    "duration": 55,
    "start_time": "2024-07-24T01:56:33.077Z"
   },
   {
    "duration": 6,
    "start_time": "2024-07-24T01:56:33.135Z"
   },
   {
    "duration": 8,
    "start_time": "2024-07-24T01:56:33.144Z"
   },
   {
    "duration": 9,
    "start_time": "2024-07-24T01:56:33.155Z"
   },
   {
    "duration": 0,
    "start_time": "2024-07-24T01:56:33.169Z"
   },
   {
    "duration": 0,
    "start_time": "2024-07-24T01:56:33.171Z"
   },
   {
    "duration": 0,
    "start_time": "2024-07-24T01:56:33.173Z"
   },
   {
    "duration": 0,
    "start_time": "2024-07-24T01:56:33.175Z"
   },
   {
    "duration": 0,
    "start_time": "2024-07-24T01:56:33.178Z"
   },
   {
    "duration": 0,
    "start_time": "2024-07-24T01:56:33.181Z"
   },
   {
    "duration": 0,
    "start_time": "2024-07-24T01:56:33.183Z"
   },
   {
    "duration": 0,
    "start_time": "2024-07-24T01:56:33.233Z"
   },
   {
    "duration": 1,
    "start_time": "2024-07-24T01:56:33.235Z"
   },
   {
    "duration": 0,
    "start_time": "2024-07-24T01:56:33.238Z"
   },
   {
    "duration": 0,
    "start_time": "2024-07-24T01:56:33.241Z"
   },
   {
    "duration": 0,
    "start_time": "2024-07-24T01:56:33.244Z"
   },
   {
    "duration": 0,
    "start_time": "2024-07-24T01:56:33.246Z"
   },
   {
    "duration": 0,
    "start_time": "2024-07-24T01:56:33.249Z"
   },
   {
    "duration": 0,
    "start_time": "2024-07-24T01:56:33.252Z"
   },
   {
    "duration": 0,
    "start_time": "2024-07-24T01:56:33.256Z"
   },
   {
    "duration": 0,
    "start_time": "2024-07-24T01:56:33.258Z"
   },
   {
    "duration": 0,
    "start_time": "2024-07-24T01:56:33.260Z"
   },
   {
    "duration": 0,
    "start_time": "2024-07-24T01:56:33.262Z"
   },
   {
    "duration": 0,
    "start_time": "2024-07-24T01:56:33.263Z"
   },
   {
    "duration": 0,
    "start_time": "2024-07-24T01:56:33.265Z"
   },
   {
    "duration": 8,
    "start_time": "2024-07-24T01:56:53.154Z"
   },
   {
    "duration": 405,
    "start_time": "2024-07-24T01:57:00.502Z"
   },
   {
    "duration": 8,
    "start_time": "2024-07-24T01:57:35.543Z"
   },
   {
    "duration": 385,
    "start_time": "2024-07-24T01:57:44.165Z"
   },
   {
    "duration": 1269,
    "start_time": "2024-07-24T01:57:49.601Z"
   },
   {
    "duration": 10,
    "start_time": "2024-07-24T01:57:50.874Z"
   },
   {
    "duration": 14,
    "start_time": "2024-07-24T01:57:50.887Z"
   },
   {
    "duration": 35,
    "start_time": "2024-07-24T01:57:50.904Z"
   },
   {
    "duration": 25,
    "start_time": "2024-07-24T01:57:50.942Z"
   },
   {
    "duration": 9,
    "start_time": "2024-07-24T01:57:50.969Z"
   },
   {
    "duration": 14,
    "start_time": "2024-07-24T01:57:50.981Z"
   },
   {
    "duration": 14,
    "start_time": "2024-07-24T01:57:51.033Z"
   },
   {
    "duration": 16,
    "start_time": "2024-07-24T01:57:51.050Z"
   },
   {
    "duration": 6,
    "start_time": "2024-07-24T01:57:51.068Z"
   },
   {
    "duration": 56,
    "start_time": "2024-07-24T01:57:51.077Z"
   },
   {
    "duration": 6,
    "start_time": "2024-07-24T01:57:51.136Z"
   },
   {
    "duration": 8,
    "start_time": "2024-07-24T01:57:51.145Z"
   },
   {
    "duration": 464,
    "start_time": "2024-07-24T01:57:51.162Z"
   },
   {
    "duration": 23,
    "start_time": "2024-07-24T01:57:51.628Z"
   },
   {
    "duration": 17,
    "start_time": "2024-07-24T01:57:51.654Z"
   },
   {
    "duration": 299,
    "start_time": "2024-07-24T01:57:51.674Z"
   },
   {
    "duration": 264,
    "start_time": "2024-07-24T01:57:51.976Z"
   },
   {
    "duration": 446,
    "start_time": "2024-07-24T01:57:52.243Z"
   },
   {
    "duration": 383,
    "start_time": "2024-07-24T01:57:52.692Z"
   },
   {
    "duration": 17,
    "start_time": "2024-07-24T01:57:53.078Z"
   },
   {
    "duration": 492,
    "start_time": "2024-07-24T01:57:53.098Z"
   },
   {
    "duration": 226,
    "start_time": "2024-07-24T01:57:53.593Z"
   },
   {
    "duration": 188,
    "start_time": "2024-07-24T01:57:53.822Z"
   },
   {
    "duration": 6,
    "start_time": "2024-07-24T01:57:54.013Z"
   },
   {
    "duration": 416,
    "start_time": "2024-07-24T01:57:54.033Z"
   },
   {
    "duration": 6,
    "start_time": "2024-07-24T01:57:54.452Z"
   },
   {
    "duration": 273,
    "start_time": "2024-07-24T01:57:54.461Z"
   },
   {
    "duration": 15,
    "start_time": "2024-07-24T01:57:54.737Z"
   },
   {
    "duration": 32,
    "start_time": "2024-07-24T01:57:54.755Z"
   },
   {
    "duration": 49,
    "start_time": "2024-07-24T01:57:54.790Z"
   },
   {
    "duration": 13,
    "start_time": "2024-07-24T01:57:54.843Z"
   },
   {
    "duration": 12,
    "start_time": "2024-07-24T01:57:54.859Z"
   },
   {
    "duration": 62,
    "start_time": "2024-07-24T01:57:54.873Z"
   },
   {
    "duration": 18,
    "start_time": "2024-07-24T01:57:54.939Z"
   },
   {
    "duration": 452,
    "start_time": "2024-07-24T02:05:56.424Z"
   },
   {
    "duration": 415,
    "start_time": "2024-07-24T02:06:09.956Z"
   },
   {
    "duration": 18,
    "start_time": "2024-07-24T02:17:01.817Z"
   },
   {
    "duration": 370,
    "start_time": "2024-07-24T02:17:06.919Z"
   },
   {
    "duration": 5604,
    "start_time": "2024-07-24T14:37:51.526Z"
   },
   {
    "duration": 12,
    "start_time": "2024-07-24T14:37:57.134Z"
   },
   {
    "duration": 15,
    "start_time": "2024-07-24T14:37:57.148Z"
   },
   {
    "duration": 12,
    "start_time": "2024-07-24T14:37:57.167Z"
   },
   {
    "duration": 53,
    "start_time": "2024-07-24T14:37:57.182Z"
   },
   {
    "duration": 12,
    "start_time": "2024-07-24T14:37:57.238Z"
   },
   {
    "duration": 11,
    "start_time": "2024-07-24T14:37:57.252Z"
   },
   {
    "duration": 13,
    "start_time": "2024-07-24T14:37:57.266Z"
   },
   {
    "duration": 55,
    "start_time": "2024-07-24T14:37:57.282Z"
   },
   {
    "duration": 5,
    "start_time": "2024-07-24T14:37:57.343Z"
   },
   {
    "duration": 15,
    "start_time": "2024-07-24T14:37:57.351Z"
   },
   {
    "duration": 5,
    "start_time": "2024-07-24T14:37:57.369Z"
   },
   {
    "duration": 11,
    "start_time": "2024-07-24T14:37:57.377Z"
   },
   {
    "duration": 406,
    "start_time": "2024-07-24T14:37:57.431Z"
   },
   {
    "duration": 19,
    "start_time": "2024-07-24T14:37:57.840Z"
   },
   {
    "duration": 18,
    "start_time": "2024-07-24T14:37:57.861Z"
   },
   {
    "duration": 292,
    "start_time": "2024-07-24T14:37:57.882Z"
   },
   {
    "duration": 261,
    "start_time": "2024-07-24T14:37:58.177Z"
   },
   {
    "duration": 23,
    "start_time": "2024-07-24T14:37:58.441Z"
   },
   {
    "duration": 339,
    "start_time": "2024-07-24T14:37:58.467Z"
   },
   {
    "duration": 389,
    "start_time": "2024-07-24T14:37:58.810Z"
   },
   {
    "duration": 30,
    "start_time": "2024-07-24T14:37:59.202Z"
   },
   {
    "duration": 453,
    "start_time": "2024-07-24T14:37:59.234Z"
   },
   {
    "duration": 243,
    "start_time": "2024-07-24T14:37:59.690Z"
   },
   {
    "duration": 194,
    "start_time": "2024-07-24T14:37:59.938Z"
   },
   {
    "duration": 8,
    "start_time": "2024-07-24T14:38:00.136Z"
   },
   {
    "duration": 495,
    "start_time": "2024-07-24T14:38:00.147Z"
   },
   {
    "duration": 6,
    "start_time": "2024-07-24T14:38:00.649Z"
   },
   {
    "duration": 279,
    "start_time": "2024-07-24T14:38:00.658Z"
   },
   {
    "duration": 15,
    "start_time": "2024-07-24T14:38:00.940Z"
   },
   {
    "duration": 31,
    "start_time": "2024-07-24T14:38:00.958Z"
   },
   {
    "duration": 45,
    "start_time": "2024-07-24T14:38:00.992Z"
   },
   {
    "duration": 13,
    "start_time": "2024-07-24T14:38:01.040Z"
   },
   {
    "duration": 12,
    "start_time": "2024-07-24T14:38:01.056Z"
   },
   {
    "duration": 67,
    "start_time": "2024-07-24T14:38:01.071Z"
   },
   {
    "duration": 19,
    "start_time": "2024-07-24T14:38:01.141Z"
   },
   {
    "duration": 15,
    "start_time": "2024-07-24T14:38:08.715Z"
   },
   {
    "duration": 14,
    "start_time": "2024-07-24T14:38:44.933Z"
   },
   {
    "duration": 4904,
    "start_time": "2024-07-29T02:53:04.525Z"
   },
   {
    "duration": 12,
    "start_time": "2024-07-29T02:53:09.435Z"
   },
   {
    "duration": 16,
    "start_time": "2024-07-29T02:53:09.450Z"
   },
   {
    "duration": 15,
    "start_time": "2024-07-29T02:53:09.470Z"
   },
   {
    "duration": 55,
    "start_time": "2024-07-29T02:53:09.489Z"
   },
   {
    "duration": 22,
    "start_time": "2024-07-29T02:53:09.547Z"
   },
   {
    "duration": 16,
    "start_time": "2024-07-29T02:53:09.573Z"
   },
   {
    "duration": 15,
    "start_time": "2024-07-29T02:53:09.595Z"
   },
   {
    "duration": 34,
    "start_time": "2024-07-29T02:53:09.613Z"
   },
   {
    "duration": 8,
    "start_time": "2024-07-29T02:53:09.650Z"
   },
   {
    "duration": 16,
    "start_time": "2024-07-29T02:53:09.662Z"
   },
   {
    "duration": 6,
    "start_time": "2024-07-29T02:53:09.680Z"
   },
   {
    "duration": 50,
    "start_time": "2024-07-29T02:53:09.689Z"
   },
   {
    "duration": 419,
    "start_time": "2024-07-29T02:53:09.745Z"
   },
   {
    "duration": 21,
    "start_time": "2024-07-29T02:53:10.167Z"
   },
   {
    "duration": 43,
    "start_time": "2024-07-29T02:53:10.192Z"
   },
   {
    "duration": 272,
    "start_time": "2024-07-29T02:53:10.238Z"
   },
   {
    "duration": 264,
    "start_time": "2024-07-29T02:53:10.513Z"
   },
   {
    "duration": 18,
    "start_time": "2024-07-29T02:53:10.780Z"
   },
   {
    "duration": 406,
    "start_time": "2024-07-29T02:53:10.801Z"
   },
   {
    "duration": 395,
    "start_time": "2024-07-29T02:53:11.210Z"
   },
   {
    "duration": 35,
    "start_time": "2024-07-29T02:53:11.608Z"
   },
   {
    "duration": 543,
    "start_time": "2024-07-29T02:53:11.646Z"
   },
   {
    "duration": 236,
    "start_time": "2024-07-29T02:53:12.193Z"
   },
   {
    "duration": 197,
    "start_time": "2024-07-29T02:53:12.431Z"
   },
   {
    "duration": 7,
    "start_time": "2024-07-29T02:53:12.634Z"
   },
   {
    "duration": 427,
    "start_time": "2024-07-29T02:53:12.644Z"
   },
   {
    "duration": 6,
    "start_time": "2024-07-29T02:53:13.075Z"
   },
   {
    "duration": 264,
    "start_time": "2024-07-29T02:53:13.084Z"
   },
   {
    "duration": 16,
    "start_time": "2024-07-29T02:53:13.354Z"
   },
   {
    "duration": 62,
    "start_time": "2024-07-29T02:53:13.374Z"
   },
   {
    "duration": 14,
    "start_time": "2024-07-29T02:53:13.439Z"
   },
   {
    "duration": 15,
    "start_time": "2024-07-29T02:53:13.456Z"
   },
   {
    "duration": 12,
    "start_time": "2024-07-29T02:53:13.475Z"
   },
   {
    "duration": 69,
    "start_time": "2024-07-29T02:53:13.490Z"
   },
   {
    "duration": 18,
    "start_time": "2024-07-29T02:53:13.562Z"
   },
   {
    "duration": 2550,
    "start_time": "2024-10-18T21:57:40.394Z"
   },
   {
    "duration": 11,
    "start_time": "2024-10-18T21:57:42.946Z"
   },
   {
    "duration": 12,
    "start_time": "2024-10-18T21:57:42.959Z"
   },
   {
    "duration": 11,
    "start_time": "2024-10-18T21:57:42.973Z"
   },
   {
    "duration": 13,
    "start_time": "2024-10-18T21:57:42.986Z"
   },
   {
    "duration": 7,
    "start_time": "2024-10-18T21:57:43.001Z"
   },
   {
    "duration": 6,
    "start_time": "2024-10-18T21:57:43.011Z"
   },
   {
    "duration": 7,
    "start_time": "2024-10-18T21:57:43.020Z"
   },
   {
    "duration": 9,
    "start_time": "2024-10-18T21:57:43.029Z"
   },
   {
    "duration": 4,
    "start_time": "2024-10-18T21:57:43.040Z"
   },
   {
    "duration": 9,
    "start_time": "2024-10-18T21:57:43.070Z"
   },
   {
    "duration": 4,
    "start_time": "2024-10-18T21:57:43.081Z"
   },
   {
    "duration": 4,
    "start_time": "2024-10-18T21:57:43.086Z"
   },
   {
    "duration": 238,
    "start_time": "2024-10-18T21:57:43.092Z"
   },
   {
    "duration": 12,
    "start_time": "2024-10-18T21:57:43.332Z"
   },
   {
    "duration": 10,
    "start_time": "2024-10-18T21:57:43.345Z"
   },
   {
    "duration": 155,
    "start_time": "2024-10-18T21:57:43.357Z"
   },
   {
    "duration": 141,
    "start_time": "2024-10-18T21:57:43.514Z"
   },
   {
    "duration": 15,
    "start_time": "2024-10-18T21:57:43.657Z"
   },
   {
    "duration": 268,
    "start_time": "2024-10-18T21:57:43.674Z"
   },
   {
    "duration": 253,
    "start_time": "2024-10-18T21:57:43.944Z"
   },
   {
    "duration": 11,
    "start_time": "2024-10-18T21:57:44.198Z"
   },
   {
    "duration": 279,
    "start_time": "2024-10-18T21:57:44.211Z"
   },
   {
    "duration": 129,
    "start_time": "2024-10-18T21:57:44.492Z"
   },
   {
    "duration": 108,
    "start_time": "2024-10-18T21:57:44.623Z"
   },
   {
    "duration": 4,
    "start_time": "2024-10-18T21:57:44.734Z"
   },
   {
    "duration": 243,
    "start_time": "2024-10-18T21:57:44.740Z"
   },
   {
    "duration": 4,
    "start_time": "2024-10-18T21:57:44.987Z"
   },
   {
    "duration": 138,
    "start_time": "2024-10-18T21:57:44.993Z"
   },
   {
    "duration": 8,
    "start_time": "2024-10-18T21:57:45.133Z"
   },
   {
    "duration": 28,
    "start_time": "2024-10-18T21:57:45.143Z"
   },
   {
    "duration": 7,
    "start_time": "2024-10-18T21:57:45.173Z"
   },
   {
    "duration": 7,
    "start_time": "2024-10-18T21:57:45.182Z"
   },
   {
    "duration": 7,
    "start_time": "2024-10-18T21:57:45.190Z"
   },
   {
    "duration": 15,
    "start_time": "2024-10-18T21:57:45.199Z"
   },
   {
    "duration": 10,
    "start_time": "2024-10-18T21:57:45.216Z"
   },
   {
    "duration": 19,
    "start_time": "2024-10-18T22:07:28.806Z"
   },
   {
    "duration": 17,
    "start_time": "2024-10-18T22:07:37.888Z"
   },
   {
    "duration": 10,
    "start_time": "2024-10-18T22:07:46.816Z"
   },
   {
    "duration": 9,
    "start_time": "2024-10-18T22:11:12.651Z"
   },
   {
    "duration": 162,
    "start_time": "2024-10-19T23:16:57.727Z"
   },
   {
    "duration": 2498,
    "start_time": "2024-10-19T23:17:02.162Z"
   },
   {
    "duration": 16,
    "start_time": "2024-10-19T23:17:04.662Z"
   },
   {
    "duration": 20,
    "start_time": "2024-10-19T23:17:04.679Z"
   },
   {
    "duration": 11,
    "start_time": "2024-10-19T23:17:04.701Z"
   },
   {
    "duration": 14,
    "start_time": "2024-10-19T23:17:04.713Z"
   },
   {
    "duration": 8,
    "start_time": "2024-10-19T23:17:04.729Z"
   },
   {
    "duration": 3,
    "start_time": "2024-10-19T23:17:04.739Z"
   },
   {
    "duration": 8,
    "start_time": "2024-10-19T23:17:04.743Z"
   },
   {
    "duration": 3,
    "start_time": "2024-10-19T23:17:04.753Z"
   },
   {
    "duration": 4,
    "start_time": "2024-10-19T23:17:04.759Z"
   },
   {
    "duration": 248,
    "start_time": "2024-10-19T23:17:04.764Z"
   },
   {
    "duration": 15,
    "start_time": "2024-10-19T23:17:05.014Z"
   },
   {
    "duration": 9,
    "start_time": "2024-10-19T23:17:05.031Z"
   },
   {
    "duration": 154,
    "start_time": "2024-10-19T23:17:05.043Z"
   },
   {
    "duration": 143,
    "start_time": "2024-10-19T23:17:05.199Z"
   },
   {
    "duration": 10,
    "start_time": "2024-10-19T23:17:05.344Z"
   },
   {
    "duration": 242,
    "start_time": "2024-10-19T23:17:05.355Z"
   },
   {
    "duration": 208,
    "start_time": "2024-10-19T23:17:05.599Z"
   },
   {
    "duration": 19,
    "start_time": "2024-10-19T23:17:05.809Z"
   },
   {
    "duration": 296,
    "start_time": "2024-10-19T23:17:05.830Z"
   },
   {
    "duration": 144,
    "start_time": "2024-10-19T23:17:06.128Z"
   },
   {
    "duration": 104,
    "start_time": "2024-10-19T23:17:06.274Z"
   },
   {
    "duration": 3,
    "start_time": "2024-10-19T23:17:06.380Z"
   },
   {
    "duration": 264,
    "start_time": "2024-10-19T23:17:06.386Z"
   },
   {
    "duration": 3,
    "start_time": "2024-10-19T23:17:06.652Z"
   },
   {
    "duration": 133,
    "start_time": "2024-10-19T23:17:06.657Z"
   },
   {
    "duration": 8,
    "start_time": "2024-10-19T23:17:06.792Z"
   },
   {
    "duration": 28,
    "start_time": "2024-10-19T23:17:06.804Z"
   },
   {
    "duration": 7,
    "start_time": "2024-10-19T23:17:06.834Z"
   },
   {
    "duration": 7,
    "start_time": "2024-10-19T23:17:06.843Z"
   },
   {
    "duration": 6,
    "start_time": "2024-10-19T23:17:06.852Z"
   },
   {
    "duration": 15,
    "start_time": "2024-10-19T23:17:06.860Z"
   },
   {
    "duration": 10,
    "start_time": "2024-10-19T23:17:06.877Z"
   },
   {
    "duration": 16,
    "start_time": "2024-10-19T23:18:16.913Z"
   },
   {
    "duration": 6,
    "start_time": "2024-10-19T23:19:31.226Z"
   },
   {
    "duration": 120,
    "start_time": "2024-10-19T23:22:25.124Z"
   },
   {
    "duration": 104,
    "start_time": "2024-10-19T23:22:42.479Z"
   },
   {
    "duration": 111,
    "start_time": "2024-10-19T23:22:53.120Z"
   },
   {
    "duration": 113,
    "start_time": "2024-10-19T23:23:20.790Z"
   },
   {
    "duration": 3,
    "start_time": "2024-10-19T23:24:07.693Z"
   },
   {
    "duration": 103,
    "start_time": "2024-10-19T23:28:30.710Z"
   },
   {
    "duration": 111,
    "start_time": "2024-10-19T23:28:35.404Z"
   },
   {
    "duration": 103,
    "start_time": "2024-10-19T23:28:39.615Z"
   },
   {
    "duration": 3,
    "start_time": "2024-10-19T23:29:09.458Z"
   },
   {
    "duration": 5,
    "start_time": "2024-10-19T23:36:04.337Z"
   },
   {
    "duration": 426,
    "start_time": "2024-10-19T23:38:10.863Z"
   },
   {
    "duration": 125,
    "start_time": "2024-10-19T23:38:15.986Z"
   },
   {
    "duration": 813,
    "start_time": "2024-10-19T23:38:27.292Z"
   },
   {
    "duration": 227,
    "start_time": "2024-10-19T23:38:32.966Z"
   },
   {
    "duration": 126,
    "start_time": "2024-10-19T23:38:36.369Z"
   },
   {
    "duration": 130,
    "start_time": "2024-10-19T23:39:06.813Z"
   },
   {
    "duration": 135,
    "start_time": "2024-10-19T23:40:59.640Z"
   },
   {
    "duration": 133,
    "start_time": "2024-10-19T23:42:06.158Z"
   },
   {
    "duration": 161,
    "start_time": "2024-10-20T00:41:36.997Z"
   },
   {
    "duration": 2484,
    "start_time": "2024-10-20T00:41:42.758Z"
   },
   {
    "duration": 14,
    "start_time": "2024-10-20T00:41:45.244Z"
   },
   {
    "duration": 20,
    "start_time": "2024-10-20T00:41:45.260Z"
   },
   {
    "duration": 14,
    "start_time": "2024-10-20T00:41:45.283Z"
   },
   {
    "duration": 5,
    "start_time": "2024-10-20T00:41:45.299Z"
   },
   {
    "duration": 8,
    "start_time": "2024-10-20T00:41:45.305Z"
   },
   {
    "duration": 150,
    "start_time": "2024-10-20T00:41:45.315Z"
   },
   {
    "duration": 3,
    "start_time": "2024-10-20T00:41:45.467Z"
   },
   {
    "duration": 10,
    "start_time": "2024-10-20T00:41:45.471Z"
   },
   {
    "duration": 123,
    "start_time": "2024-10-20T00:41:45.484Z"
   },
   {
    "duration": 4,
    "start_time": "2024-10-20T00:41:45.609Z"
   },
   {
    "duration": 5,
    "start_time": "2024-10-20T00:41:45.614Z"
   },
   {
    "duration": 232,
    "start_time": "2024-10-20T00:41:45.621Z"
   },
   {
    "duration": 19,
    "start_time": "2024-10-20T00:41:45.855Z"
   },
   {
    "duration": 9,
    "start_time": "2024-10-20T00:41:45.876Z"
   },
   {
    "duration": 144,
    "start_time": "2024-10-20T00:41:45.886Z"
   },
   {
    "duration": 140,
    "start_time": "2024-10-20T00:41:46.033Z"
   },
   {
    "duration": 12,
    "start_time": "2024-10-20T00:41:46.175Z"
   },
   {
    "duration": 296,
    "start_time": "2024-10-20T00:41:46.189Z"
   },
   {
    "duration": 217,
    "start_time": "2024-10-20T00:41:46.487Z"
   },
   {
    "duration": 10,
    "start_time": "2024-10-20T00:41:46.706Z"
   },
   {
    "duration": 285,
    "start_time": "2024-10-20T00:41:46.717Z"
   },
   {
    "duration": 123,
    "start_time": "2024-10-20T00:41:47.003Z"
   },
   {
    "duration": 108,
    "start_time": "2024-10-20T00:41:47.128Z"
   },
   {
    "duration": 4,
    "start_time": "2024-10-20T00:41:47.238Z"
   },
   {
    "duration": 231,
    "start_time": "2024-10-20T00:41:47.244Z"
   },
   {
    "duration": 4,
    "start_time": "2024-10-20T00:41:47.477Z"
   },
   {
    "duration": 143,
    "start_time": "2024-10-20T00:41:47.485Z"
   },
   {
    "duration": 9,
    "start_time": "2024-10-20T00:41:47.630Z"
   },
   {
    "duration": 15,
    "start_time": "2024-10-20T00:41:47.640Z"
   },
   {
    "duration": 7,
    "start_time": "2024-10-20T00:41:47.671Z"
   },
   {
    "duration": 6,
    "start_time": "2024-10-20T00:41:47.680Z"
   },
   {
    "duration": 6,
    "start_time": "2024-10-20T00:41:47.688Z"
   },
   {
    "duration": 14,
    "start_time": "2024-10-20T00:41:47.696Z"
   },
   {
    "duration": 11,
    "start_time": "2024-10-20T00:41:47.712Z"
   },
   {
    "duration": 1059,
    "start_time": "2024-10-20T00:42:34.450Z"
   },
   {
    "duration": 212,
    "start_time": "2024-10-20T00:42:43.635Z"
   },
   {
    "duration": 197,
    "start_time": "2024-10-20T00:44:47.805Z"
   },
   {
    "duration": 183,
    "start_time": "2024-10-20T00:45:03.296Z"
   },
   {
    "duration": 201,
    "start_time": "2024-10-20T00:45:09.992Z"
   },
   {
    "duration": 233,
    "start_time": "2024-10-20T00:46:02.065Z"
   },
   {
    "duration": 265,
    "start_time": "2024-10-20T01:02:34.939Z"
   },
   {
    "duration": 283,
    "start_time": "2024-10-20T01:02:40.868Z"
   },
   {
    "duration": 340,
    "start_time": "2024-10-20T01:05:21.475Z"
   },
   {
    "duration": 157,
    "start_time": "2024-10-20T19:28:12.702Z"
   },
   {
    "duration": 2565,
    "start_time": "2024-10-20T19:28:26.844Z"
   },
   {
    "duration": 14,
    "start_time": "2024-10-20T19:28:29.411Z"
   },
   {
    "duration": 19,
    "start_time": "2024-10-20T19:28:29.427Z"
   },
   {
    "duration": 23,
    "start_time": "2024-10-20T19:28:29.448Z"
   },
   {
    "duration": 5,
    "start_time": "2024-10-20T19:28:29.473Z"
   },
   {
    "duration": 9,
    "start_time": "2024-10-20T19:28:29.480Z"
   },
   {
    "duration": 142,
    "start_time": "2024-10-20T19:28:29.491Z"
   },
   {
    "duration": 4,
    "start_time": "2024-10-20T19:28:29.635Z"
   },
   {
    "duration": 9,
    "start_time": "2024-10-20T19:28:29.641Z"
   },
   {
    "duration": 124,
    "start_time": "2024-10-20T19:28:29.652Z"
   },
   {
    "duration": 3,
    "start_time": "2024-10-20T19:28:29.778Z"
   },
   {
    "duration": 6,
    "start_time": "2024-10-20T19:28:29.783Z"
   },
   {
    "duration": 233,
    "start_time": "2024-10-20T19:28:29.790Z"
   },
   {
    "duration": 11,
    "start_time": "2024-10-20T19:28:30.028Z"
   },
   {
    "duration": 10,
    "start_time": "2024-10-20T19:28:30.041Z"
   },
   {
    "duration": 151,
    "start_time": "2024-10-20T19:28:30.052Z"
   },
   {
    "duration": 144,
    "start_time": "2024-10-20T19:28:30.205Z"
   },
   {
    "duration": 19,
    "start_time": "2024-10-20T19:28:30.351Z"
   },
   {
    "duration": 303,
    "start_time": "2024-10-20T19:28:30.371Z"
   },
   {
    "duration": 214,
    "start_time": "2024-10-20T19:28:30.675Z"
   },
   {
    "duration": 11,
    "start_time": "2024-10-20T19:28:30.890Z"
   },
   {
    "duration": 316,
    "start_time": "2024-10-20T19:28:30.902Z"
   },
   {
    "duration": 130,
    "start_time": "2024-10-20T19:28:31.219Z"
   },
   {
    "duration": 106,
    "start_time": "2024-10-20T19:28:31.351Z"
   },
   {
    "duration": 12,
    "start_time": "2024-10-20T19:28:31.459Z"
   },
   {
    "duration": 223,
    "start_time": "2024-10-20T19:28:31.473Z"
   },
   {
    "duration": 4,
    "start_time": "2024-10-20T19:28:31.698Z"
   },
   {
    "duration": 136,
    "start_time": "2024-10-20T19:28:31.704Z"
   },
   {
    "duration": 9,
    "start_time": "2024-10-20T19:28:31.842Z"
   },
   {
    "duration": 25,
    "start_time": "2024-10-20T19:28:31.852Z"
   },
   {
    "duration": 9,
    "start_time": "2024-10-20T19:28:31.878Z"
   },
   {
    "duration": 7,
    "start_time": "2024-10-20T19:28:31.888Z"
   },
   {
    "duration": 8,
    "start_time": "2024-10-20T19:28:31.896Z"
   },
   {
    "duration": 15,
    "start_time": "2024-10-20T19:28:31.905Z"
   },
   {
    "duration": 10,
    "start_time": "2024-10-20T19:28:31.922Z"
   },
   {
    "duration": 789,
    "start_time": "2024-10-20T19:37:12.964Z"
   },
   {
    "duration": 15,
    "start_time": "2024-10-20T19:37:13.755Z"
   },
   {
    "duration": 16,
    "start_time": "2024-10-20T19:37:13.772Z"
   },
   {
    "duration": 12,
    "start_time": "2024-10-20T19:37:13.790Z"
   },
   {
    "duration": 5,
    "start_time": "2024-10-20T19:37:13.804Z"
   },
   {
    "duration": 8,
    "start_time": "2024-10-20T19:37:13.811Z"
   },
   {
    "duration": 151,
    "start_time": "2024-10-20T19:37:13.820Z"
   },
   {
    "duration": 4,
    "start_time": "2024-10-20T19:37:13.973Z"
   },
   {
    "duration": 9,
    "start_time": "2024-10-20T19:37:13.979Z"
   },
   {
    "duration": 123,
    "start_time": "2024-10-20T19:37:13.991Z"
   },
   {
    "duration": 4,
    "start_time": "2024-10-20T19:37:14.115Z"
   },
   {
    "duration": 5,
    "start_time": "2024-10-20T19:37:14.120Z"
   },
   {
    "duration": 285,
    "start_time": "2024-10-20T19:37:14.127Z"
   },
   {
    "duration": 11,
    "start_time": "2024-10-20T19:37:14.413Z"
   },
   {
    "duration": 9,
    "start_time": "2024-10-20T19:37:14.426Z"
   },
   {
    "duration": 147,
    "start_time": "2024-10-20T19:37:14.437Z"
   },
   {
    "duration": 142,
    "start_time": "2024-10-20T19:37:14.586Z"
   },
   {
    "duration": 12,
    "start_time": "2024-10-20T19:37:14.730Z"
   },
   {
    "duration": 229,
    "start_time": "2024-10-20T19:37:14.744Z"
   },
   {
    "duration": 217,
    "start_time": "2024-10-20T19:37:14.975Z"
   },
   {
    "duration": 10,
    "start_time": "2024-10-20T19:37:15.194Z"
   },
   {
    "duration": 313,
    "start_time": "2024-10-20T19:37:15.206Z"
   },
   {
    "duration": 123,
    "start_time": "2024-10-20T19:37:15.521Z"
   },
   {
    "duration": 98,
    "start_time": "2024-10-20T19:37:15.646Z"
   },
   {
    "duration": 4,
    "start_time": "2024-10-20T19:37:15.745Z"
   },
   {
    "duration": 223,
    "start_time": "2024-10-20T19:37:15.750Z"
   },
   {
    "duration": 5,
    "start_time": "2024-10-20T19:37:15.975Z"
   },
   {
    "duration": 140,
    "start_time": "2024-10-20T19:37:15.984Z"
   },
   {
    "duration": 7,
    "start_time": "2024-10-20T19:37:16.126Z"
   },
   {
    "duration": 17,
    "start_time": "2024-10-20T19:37:16.135Z"
   },
   {
    "duration": 9,
    "start_time": "2024-10-20T19:37:16.169Z"
   },
   {
    "duration": 7,
    "start_time": "2024-10-20T19:37:16.181Z"
   },
   {
    "duration": 7,
    "start_time": "2024-10-20T19:37:16.190Z"
   },
   {
    "duration": 16,
    "start_time": "2024-10-20T19:37:16.198Z"
   },
   {
    "duration": 9,
    "start_time": "2024-10-20T19:37:16.216Z"
   },
   {
    "duration": 209,
    "start_time": "2024-10-20T21:05:01.539Z"
   },
   {
    "duration": 100,
    "start_time": "2024-10-20T21:05:55.464Z"
   },
   {
    "duration": 303,
    "start_time": "2024-10-20T21:06:36.896Z"
   },
   {
    "duration": 2548,
    "start_time": "2024-10-22T18:44:58.997Z"
   },
   {
    "duration": 14,
    "start_time": "2024-10-22T18:45:01.548Z"
   },
   {
    "duration": 23,
    "start_time": "2024-10-22T18:45:01.564Z"
   },
   {
    "duration": 15,
    "start_time": "2024-10-22T18:45:01.591Z"
   },
   {
    "duration": 5,
    "start_time": "2024-10-22T18:45:01.608Z"
   },
   {
    "duration": 8,
    "start_time": "2024-10-22T18:45:01.615Z"
   },
   {
    "duration": 147,
    "start_time": "2024-10-22T18:45:01.624Z"
   },
   {
    "duration": 4,
    "start_time": "2024-10-22T18:45:01.773Z"
   },
   {
    "duration": 9,
    "start_time": "2024-10-22T18:45:01.786Z"
   },
   {
    "duration": 115,
    "start_time": "2024-10-22T18:45:01.798Z"
   },
   {
    "duration": 3,
    "start_time": "2024-10-22T18:45:01.915Z"
   },
   {
    "duration": 4,
    "start_time": "2024-10-22T18:45:01.920Z"
   },
   {
    "duration": 232,
    "start_time": "2024-10-22T18:45:01.926Z"
   },
   {
    "duration": 10,
    "start_time": "2024-10-22T18:45:02.160Z"
   },
   {
    "duration": 21,
    "start_time": "2024-10-22T18:45:02.172Z"
   },
   {
    "duration": 142,
    "start_time": "2024-10-22T18:45:02.195Z"
   },
   {
    "duration": 147,
    "start_time": "2024-10-22T18:45:02.338Z"
   },
   {
    "duration": 10,
    "start_time": "2024-10-22T18:45:02.487Z"
   },
   {
    "duration": 280,
    "start_time": "2024-10-22T18:45:02.499Z"
   },
   {
    "duration": 219,
    "start_time": "2024-10-22T18:45:02.787Z"
   },
   {
    "duration": 11,
    "start_time": "2024-10-22T18:45:03.009Z"
   },
   {
    "duration": 316,
    "start_time": "2024-10-22T18:45:03.021Z"
   },
   {
    "duration": 151,
    "start_time": "2024-10-22T18:45:03.339Z"
   },
   {
    "duration": 104,
    "start_time": "2024-10-22T18:45:03.494Z"
   },
   {
    "duration": 4,
    "start_time": "2024-10-22T18:45:03.599Z"
   },
   {
    "duration": 302,
    "start_time": "2024-10-22T18:45:03.605Z"
   },
   {
    "duration": 4,
    "start_time": "2024-10-22T18:45:03.908Z"
   },
   {
    "duration": 142,
    "start_time": "2024-10-22T18:45:03.917Z"
   },
   {
    "duration": 9,
    "start_time": "2024-10-22T18:45:04.061Z"
   },
   {
    "duration": 27,
    "start_time": "2024-10-22T18:45:04.072Z"
   },
   {
    "duration": 8,
    "start_time": "2024-10-22T18:45:04.101Z"
   },
   {
    "duration": 7,
    "start_time": "2024-10-22T18:45:04.111Z"
   },
   {
    "duration": 7,
    "start_time": "2024-10-22T18:45:04.119Z"
   },
   {
    "duration": 15,
    "start_time": "2024-10-22T18:45:04.127Z"
   },
   {
    "duration": 46,
    "start_time": "2024-10-22T18:45:04.143Z"
   },
   {
    "duration": 216,
    "start_time": "2024-10-22T18:45:35.222Z"
   },
   {
    "duration": 17,
    "start_time": "2024-10-22T18:54:44.853Z"
   },
   {
    "duration": 16,
    "start_time": "2024-10-22T18:55:00.173Z"
   },
   {
    "duration": 17,
    "start_time": "2024-10-22T18:55:07.147Z"
   },
   {
    "duration": 16,
    "start_time": "2024-10-22T18:55:16.339Z"
   },
   {
    "duration": 4,
    "start_time": "2024-10-22T18:55:55.512Z"
   },
   {
    "duration": 7,
    "start_time": "2024-10-22T18:56:00.763Z"
   },
   {
    "duration": 18,
    "start_time": "2024-10-22T18:56:13.693Z"
   },
   {
    "duration": 4,
    "start_time": "2024-10-22T18:56:26.635Z"
   },
   {
    "duration": 17,
    "start_time": "2024-10-22T18:56:31.084Z"
   },
   {
    "duration": 16,
    "start_time": "2024-10-22T18:56:59.132Z"
   },
   {
    "duration": 16,
    "start_time": "2024-10-22T18:57:04.907Z"
   },
   {
    "duration": 9,
    "start_time": "2024-10-22T19:01:26.735Z"
   },
   {
    "duration": 7,
    "start_time": "2024-10-22T19:10:11.418Z"
   },
   {
    "duration": 4,
    "start_time": "2024-10-22T19:10:52.435Z"
   },
   {
    "duration": 5,
    "start_time": "2024-10-22T19:56:19.415Z"
   },
   {
    "duration": 5,
    "start_time": "2024-10-22T19:56:33.835Z"
   },
   {
    "duration": 5,
    "start_time": "2024-10-22T19:56:57.749Z"
   },
   {
    "duration": 12,
    "start_time": "2024-10-22T19:57:15.189Z"
   },
   {
    "duration": 6,
    "start_time": "2024-10-22T19:57:33.221Z"
   },
   {
    "duration": 11,
    "start_time": "2024-10-22T19:57:40.249Z"
   },
   {
    "duration": 15,
    "start_time": "2024-10-22T20:00:20.042Z"
   },
   {
    "duration": 4,
    "start_time": "2024-10-22T20:03:57.667Z"
   },
   {
    "duration": 128,
    "start_time": "2024-10-22T20:46:41.800Z"
   },
   {
    "duration": 127,
    "start_time": "2024-10-22T20:46:54.495Z"
   },
   {
    "duration": 4,
    "start_time": "2024-10-22T20:48:47.721Z"
   },
   {
    "duration": 7,
    "start_time": "2024-10-22T20:48:51.818Z"
   },
   {
    "duration": 4,
    "start_time": "2024-10-22T20:50:16.218Z"
   },
   {
    "duration": 4,
    "start_time": "2024-10-22T20:50:19.423Z"
   },
   {
    "duration": 286,
    "start_time": "2024-10-22T20:50:25.545Z"
   },
   {
    "duration": 19,
    "start_time": "2024-10-22T20:50:39.348Z"
   },
   {
    "duration": 19,
    "start_time": "2024-10-22T20:50:48.143Z"
   },
   {
    "duration": 20,
    "start_time": "2024-10-22T20:50:58.904Z"
   },
   {
    "duration": 6,
    "start_time": "2024-10-22T20:51:35.191Z"
   },
   {
    "duration": 7,
    "start_time": "2024-10-22T20:51:48.032Z"
   },
   {
    "duration": 7,
    "start_time": "2024-10-22T20:52:20.502Z"
   },
   {
    "duration": 2614,
    "start_time": "2024-11-11T21:15:22.340Z"
   },
   {
    "duration": 15,
    "start_time": "2024-11-11T21:15:24.956Z"
   },
   {
    "duration": 21,
    "start_time": "2024-11-11T21:15:24.972Z"
   },
   {
    "duration": 28,
    "start_time": "2024-11-11T21:15:24.995Z"
   },
   {
    "duration": 7,
    "start_time": "2024-11-11T21:15:25.027Z"
   },
   {
    "duration": 10,
    "start_time": "2024-11-11T21:15:25.036Z"
   },
   {
    "duration": 155,
    "start_time": "2024-11-11T21:15:25.048Z"
   },
   {
    "duration": 8,
    "start_time": "2024-11-11T21:15:25.205Z"
   },
   {
    "duration": 14,
    "start_time": "2024-11-11T21:15:25.215Z"
   },
   {
    "duration": 125,
    "start_time": "2024-11-11T21:15:25.231Z"
   },
   {
    "duration": 4,
    "start_time": "2024-11-11T21:15:25.358Z"
   },
   {
    "duration": 5,
    "start_time": "2024-11-11T21:15:25.364Z"
   },
   {
    "duration": 268,
    "start_time": "2024-11-11T21:15:25.371Z"
   },
   {
    "duration": 11,
    "start_time": "2024-11-11T21:15:25.642Z"
   },
   {
    "duration": 10,
    "start_time": "2024-11-11T21:15:25.654Z"
   },
   {
    "duration": 157,
    "start_time": "2024-11-11T21:15:25.666Z"
   },
   {
    "duration": 143,
    "start_time": "2024-11-11T21:15:25.824Z"
   },
   {
    "duration": 11,
    "start_time": "2024-11-11T21:15:25.969Z"
   },
   {
    "duration": 243,
    "start_time": "2024-11-11T21:15:25.982Z"
   },
   {
    "duration": 273,
    "start_time": "2024-11-11T21:15:26.227Z"
   },
   {
    "duration": 17,
    "start_time": "2024-11-11T21:15:26.503Z"
   },
   {
    "duration": 338,
    "start_time": "2024-11-11T21:15:26.522Z"
   },
   {
    "duration": 126,
    "start_time": "2024-11-11T21:15:26.862Z"
   },
   {
    "duration": 104,
    "start_time": "2024-11-11T21:15:26.990Z"
   },
   {
    "duration": 3,
    "start_time": "2024-11-11T21:15:27.096Z"
   },
   {
    "duration": 251,
    "start_time": "2024-11-11T21:15:27.101Z"
   },
   {
    "duration": 4,
    "start_time": "2024-11-11T21:15:27.354Z"
   },
   {
    "duration": 143,
    "start_time": "2024-11-11T21:15:27.359Z"
   },
   {
    "duration": 14,
    "start_time": "2024-11-11T21:15:27.504Z"
   },
   {
    "duration": 17,
    "start_time": "2024-11-11T21:15:27.520Z"
   },
   {
    "duration": 9,
    "start_time": "2024-11-11T21:15:27.539Z"
   },
   {
    "duration": 6,
    "start_time": "2024-11-11T21:15:27.550Z"
   },
   {
    "duration": 7,
    "start_time": "2024-11-11T21:15:27.558Z"
   },
   {
    "duration": 58,
    "start_time": "2024-11-11T21:15:27.566Z"
   },
   {
    "duration": 14,
    "start_time": "2024-11-11T21:15:27.626Z"
   },
   {
    "duration": 343,
    "start_time": "2024-11-11T21:15:45.917Z"
   },
   {
    "duration": 142,
    "start_time": "2024-11-11T21:16:42.293Z"
   },
   {
    "duration": 203,
    "start_time": "2024-11-11T21:17:01.600Z"
   },
   {
    "duration": 140,
    "start_time": "2024-11-11T21:17:06.390Z"
   },
   {
    "duration": 139,
    "start_time": "2024-11-11T21:17:22.928Z"
   },
   {
    "duration": 271,
    "start_time": "2024-11-11T21:17:32.926Z"
   },
   {
    "duration": 224,
    "start_time": "2024-11-11T21:17:42.648Z"
   },
   {
    "duration": 225,
    "start_time": "2024-11-11T21:17:49.146Z"
   },
   {
    "duration": 244,
    "start_time": "2024-11-11T21:17:55.205Z"
   },
   {
    "duration": 218,
    "start_time": "2024-11-11T21:18:11.727Z"
   },
   {
    "duration": 313,
    "start_time": "2024-11-11T21:18:20.791Z"
   },
   {
    "duration": 311,
    "start_time": "2024-11-11T21:18:26.050Z"
   },
   {
    "duration": 838,
    "start_time": "2024-11-11T21:18:48.555Z"
   },
   {
    "duration": 17,
    "start_time": "2024-11-11T21:18:49.395Z"
   },
   {
    "duration": 18,
    "start_time": "2024-11-11T21:18:49.413Z"
   },
   {
    "duration": 15,
    "start_time": "2024-11-11T21:18:49.433Z"
   },
   {
    "duration": 5,
    "start_time": "2024-11-11T21:18:49.449Z"
   },
   {
    "duration": 9,
    "start_time": "2024-11-11T21:18:49.456Z"
   },
   {
    "duration": 150,
    "start_time": "2024-11-11T21:18:49.466Z"
   },
   {
    "duration": 3,
    "start_time": "2024-11-11T21:18:49.618Z"
   },
   {
    "duration": 10,
    "start_time": "2024-11-11T21:18:49.623Z"
   },
   {
    "duration": 128,
    "start_time": "2024-11-11T21:18:49.637Z"
   },
   {
    "duration": 4,
    "start_time": "2024-11-11T21:18:49.767Z"
   },
   {
    "duration": 5,
    "start_time": "2024-11-11T21:18:49.772Z"
   },
   {
    "duration": 296,
    "start_time": "2024-11-11T21:18:49.779Z"
   },
   {
    "duration": 13,
    "start_time": "2024-11-11T21:18:50.077Z"
   },
   {
    "duration": 20,
    "start_time": "2024-11-11T21:18:50.091Z"
   },
   {
    "duration": 146,
    "start_time": "2024-11-11T21:18:50.113Z"
   },
   {
    "duration": 151,
    "start_time": "2024-11-11T21:18:50.261Z"
   },
   {
    "duration": 11,
    "start_time": "2024-11-11T21:18:50.413Z"
   },
   {
    "duration": 290,
    "start_time": "2024-11-11T21:18:50.426Z"
   },
   {
    "duration": 233,
    "start_time": "2024-11-11T21:18:50.718Z"
   },
   {
    "duration": 10,
    "start_time": "2024-11-11T21:18:50.953Z"
   },
   {
    "duration": 316,
    "start_time": "2024-11-11T21:18:50.965Z"
   },
   {
    "duration": 132,
    "start_time": "2024-11-11T21:18:51.283Z"
   },
   {
    "duration": 107,
    "start_time": "2024-11-11T21:18:51.416Z"
   },
   {
    "duration": 3,
    "start_time": "2024-11-11T21:18:51.525Z"
   },
   {
    "duration": 247,
    "start_time": "2024-11-11T21:18:51.530Z"
   },
   {
    "duration": 4,
    "start_time": "2024-11-11T21:18:51.779Z"
   },
   {
    "duration": 143,
    "start_time": "2024-11-11T21:18:51.787Z"
   },
   {
    "duration": 7,
    "start_time": "2024-11-11T21:18:51.933Z"
   },
   {
    "duration": 16,
    "start_time": "2024-11-11T21:18:51.942Z"
   },
   {
    "duration": 8,
    "start_time": "2024-11-11T21:18:51.960Z"
   },
   {
    "duration": 6,
    "start_time": "2024-11-11T21:18:51.970Z"
   },
   {
    "duration": 34,
    "start_time": "2024-11-11T21:18:51.978Z"
   },
   {
    "duration": 16,
    "start_time": "2024-11-11T21:18:52.014Z"
   },
   {
    "duration": 11,
    "start_time": "2024-11-11T21:18:52.031Z"
   }
  ],
  "kernelspec": {
   "display_name": "Python 3 (ipykernel)",
   "language": "python",
   "name": "python3"
  },
  "language_info": {
   "codemirror_mode": {
    "name": "ipython",
    "version": 3
   },
   "file_extension": ".py",
   "mimetype": "text/x-python",
   "name": "python",
   "nbconvert_exporter": "python",
   "pygments_lexer": "ipython3",
   "version": "3.9.19"
  },
  "toc": {
   "base_numbering": 1,
   "nav_menu": {
    "height": "61px",
    "width": "177px"
   },
   "number_sections": true,
   "sideBar": true,
   "skip_h1_title": true,
   "title_cell": "Tabla de contenidos",
   "title_sidebar": "Contenidos",
   "toc_cell": true,
   "toc_position": {
    "height": "calc(100% - 180px)",
    "left": "10px",
    "top": "150px",
    "width": "226px"
   },
   "toc_section_display": true,
   "toc_window_display": true
  }
 },
 "nbformat": 4,
 "nbformat_minor": 2
}
